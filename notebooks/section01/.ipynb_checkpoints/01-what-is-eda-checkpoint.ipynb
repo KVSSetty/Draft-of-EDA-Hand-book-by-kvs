{
 "cells": [
  {
   "cell_type": "markdown",
   "metadata": {},
   "source": [
    "# Introduction to Exploratory Data Analysis (EDA)"
   ]
  },
  {
   "cell_type": "markdown",
   "metadata": {},
   "source": [
    "Written by: [KV Subbaih Setty](https://www.kvssetty.com).\n",
    "\n",
    "These series of articles are inspired by: https://doi.org/10.18434/M32189"
   ]
  },
  {
   "cell_type": "markdown",
   "metadata": {},
   "source": [
    "This series of articles and tutorials presents the principles, assumptions, and techniques necessary to gain insight into data via EDA--exploratory data analysis."
   ]
  },
  {
   "cell_type": "markdown",
   "metadata": {},
   "source": [
    "**EDA is the most important and most neglected step in Machine Learning model development process**.To overcome this neglected aspect, which causes many complications during the later stages of ML model building process, we must understand its concepts and importance. Every aspiring Data Scientist and Citizen Data Scientist must learn the art and science of doing EDA to become a successful Data Scientist and ML engineer/Practitioner. "
   ]
  },
  {
   "cell_type": "markdown",
   "metadata": {},
   "source": [
    "These series articles and tutorials are aimed towards teaching and training the aspiring data scientists, beginner data scientists, and budding citizen data scientists to do EDA as a first step on receiving data for developing high-performance ML models.\n"
   ]
  },
  {
   "cell_type": "markdown",
   "metadata": {},
   "source": [
    "**This, Introduction to Exploratory Analysis (EDA) series of tutorials is divided in to following five sections** "
   ]
  },
  {
   "cell_type": "markdown",
   "metadata": {},
   "source": [
    "* Section ONE: EDA Introduction.\n",
    "* Section TWO: EDA Assumptions.\n",
    "* Section Three: EDA techniques.\n",
    "* Section Four: EDA case studies.\n",
    "* Section Five: EDA libraries in Python.\n",
    "\n",
    "And each section is further sub divided in to number of topics and each topic is covered in a single separate tutorial. "
   ]
  },
  {
   "cell_type": "markdown",
   "metadata": {},
   "source": [
    "# Section ONE: EDA Introduction\n",
    "Table of Topics:\n",
    "1. **What is EDA?**\n",
    "2. **EDA vs Classical & Bayesian analysis**\n",
    "3. **EDA vs Summary statistics**\n",
    "4. **EDA Goals**\n",
    "5. **The Role of Graphics in EDA**\n",
    "6. **An EDA Example**\n",
    "7. **General EDA Problem Categories**"
   ]
  },
  {
   "cell_type": "markdown",
   "metadata": {},
   "source": [
    "Each topic is covered in a separate article/notebook."
   ]
  },
  {
   "cell_type": "markdown",
   "metadata": {},
   "source": [
    "## 1. What is EDA?"
   ]
  },
  {
   "cell_type": "markdown",
   "metadata": {},
   "source": [
    "### EDA is an Approach\n",
    "Exploratory Data Analysis (EDA) is an approach/philosophy\n",
    "for data analysis that employs a variety of techniques (mostly\n",
    "graphical) to\n",
    "1. maximize insight into a data set;\n",
    "2. uncover underlying data structure;\n",
    "3. extract important variables;\n",
    "4. detect outliers and anomalies;\n",
    "5. test underlying assumptions;\n",
    "6. develop parsimonious models; and\n",
    "7. determine optimal feature representation.\n",
    "8. detect  presence of any missing values."
   ]
  },
  {
   "cell_type": "markdown",
   "metadata": {},
   "source": [
    "### Focus of EDA  \n",
    "The EDA approach is precisely that--an approach--not a set of\n",
    "techniques or rules, but an attitude/philosophy about how a data\n",
    "analysis should be carried out."
   ]
  },
  {
   "cell_type": "markdown",
   "metadata": {},
   "source": [
    ">*‘Exploratory data analysis’ is an attitude, a state of flexibility, a willingness to look for those things that we believe are not there, as well as those we believe to be there.”\n",
    "— John Tukey, Author of Exploratory Data Analysis*"
   ]
  },
  {
   "cell_type": "markdown",
   "metadata": {},
   "source": [
    "For exploratory data analysis, the focus is on the data--its structure, outliers, provide hits for data preparation, and models suggested by the data."
   ]
  },
  {
   "cell_type": "markdown",
   "metadata": {},
   "source": [
    "EDA is art and science and comes by lot of practice and experience. It is not just plotting a set graphs as many believe.Though we use lot of statistical plots as techniques of EDA , drawing inferences from  the plots is the core of EDA "
   ]
  },
  {
   "cell_type": "markdown",
   "metadata": {},
   "source": [
    "### Philosophy of EDA \n",
    "EDA is not identical to *statistical graphics* although the two\n",
    "terms are used almost interchangeably. Statistical graphics is a\n",
    "collection of techniques--all graphically based and all\n",
    "focusing on one data characterization aspect. EDA\n",
    "encompasses a larger landscape; EDA is an approach to data\n",
    "analysis that postpones the usual assumptions about what kind\n",
    "of model the data follow with the more direct approach of\n",
    "allowing the data itself to reveal its underlying structure and\n",
    "model. EDA is not a mere collection of techniques; EDA is a\n",
    "philosophy as to how we:\n",
    "- dissect a data set; \n",
    "- what we look for in the data;\n",
    "- how we look at data;\n",
    "- how we interpret data.\n",
    "\n",
    "It is true that EDA heavily uses the collection of techniques that we call\n",
    "*statistical graphics*, but it is not identical to statistical\n",
    "graphics per se."
   ]
  },
  {
   "cell_type": "markdown",
   "metadata": {},
   "source": [
    "### Techniques of EDA\n",
    "Most EDA techniques are graphical in nature with a few quantitative techniques. The reason for the heavy reliance on graphics is that by its very nature the main role of EDA is to open-mindedly explore, and graphics gives the analysts unparalleled power to do so, enticing the data to reveal its structural secrets, and being always ready to gain some new, often unsuspected, insight into the data. In combination with the natural pattern-recognition capabilities that we all possess, graphics provides, of course, unparalleled power to carry this out.\n",
    "\n",
    "The particular graphical techniques employed in EDA are often quite simple, consisting of various techniques of:\n",
    "\n",
    "- Plotting the raw data (such as **data traces, histograms, bi-histograms, probability plots, lag plots, block plots, and [Youden plots](https://en.wikipedia.org/wiki/Youden%27s_J_statistic)**.\n",
    "\n",
    "- Plotting simple statistics such as **mean plots, standard deviation plots, box plots, and main effects plots of the raw data**.\n",
    "\n",
    "- Positioning such plots so as to maximize our natural pattern-recognition abilities, such as using multiple plots per page and over plotting .\n"
   ]
  },
  {
   "cell_type": "markdown",
   "metadata": {},
   "source": [
    "In the next tutorial we focus on various approaches to data analysis and why EDA takes center stages among them."
   ]
  }
 ],
 "metadata": {
  "kernelspec": {
   "display_name": "Python 3",
   "language": "python",
   "name": "python3"
  },
  "language_info": {
   "codemirror_mode": {
    "name": "ipython",
    "version": 3
   },
   "file_extension": ".py",
   "mimetype": "text/x-python",
   "name": "python",
   "nbconvert_exporter": "python",
   "pygments_lexer": "ipython3",
   "version": "3.8.3"
  }
 },
 "nbformat": 4,
 "nbformat_minor": 4
}
