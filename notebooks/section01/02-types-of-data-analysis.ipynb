{
 "cells": [
  {
   "cell_type": "markdown",
   "metadata": {},
   "source": [
    "# Series: Introduction to Exploratory Data Analysis (EDA)"
   ]
  },
  {
   "cell_type": "markdown",
   "metadata": {},
   "source": [
    "**A series of articles and tutorials presents the principles, assumptions, and techniques necessary to gain insight into data via EDA--exploratory data analysis.**"
   ]
  },
  {
   "cell_type": "markdown",
   "metadata": {},
   "source": [
    "### Section ONE: EDA introduction, topic: Types of Data Analysis"
   ]
  },
  {
   "cell_type": "markdown",
   "metadata": {},
   "source": [
    "Written by: [KV Subbaih Setty](https://www.kvssetty.com).\n",
    "\n",
    "This series of articles are inspired by: https://doi.org/10.18434/M32189"
   ]
  },
  {
   "cell_type": "markdown",
   "metadata": {},
   "source": [
    "**This series of articles and tutorials is divided in to following five sections** \n",
    "\n",
    "* Section ONE:   EDA Introduction.\n",
    "* Section TWO:   EDA Assumptions.\n",
    "* Section Three: EDA techniques.\n",
    "* Section Four:  EDA case studies.\n",
    "* Section Five:  EDA Python libraries.\n",
    "\n",
    "And each section is further sub divided in to number of topics and each topic is covered in a single separate tutorial. "
   ]
  },
  {
   "cell_type": "markdown",
   "metadata": {},
   "source": [
    "\n",
    "**Table of topics of sectionONE**:\n",
    "1. [What is EDA?](https://medium.com/nerd-for-tech/what-is-eda-ec2791f48de9)\n",
    "2. **Types of Data Analysis**\n",
    "3. EDA Goals\n",
    "4. The Role of Graphics in EDA\n",
    "5. An EDA Example\n",
    "6. General EDA Problem Categories\n",
    "\n",
    "Each topic is covered in a separate article/notebook.\n",
    "This article is topic2:Types of Data Analysis of Section ONE: EDA itroduction.\n",
    "\n",
    "topic1: What is EDA? can be found [here](https://medium.com/nerd-for-tech/what-is-eda-ec2791f48de9)"
   ]
  },
  {
   "cell_type": "markdown",
   "metadata": {},
   "source": [
    "## Topic2: Types of Data Analysis"
   ]
  },
  {
   "cell_type": "markdown",
   "metadata": {},
   "source": [
    "### Data Analysis Approaches"
   ]
  },
  {
   "cell_type": "markdown",
   "metadata": {},
   "source": [
    "EDA is a data analysis approach. What other data analysis approaches exist? and how does EDA differ from these other approaches? Four popular data analysis approaches are:\n",
    "1. Classical Analysis\n",
    "2. Exploratory Data Analysis (EDA)\n",
    "3. Bayesian Analysis\n",
    "4. Descriptive Analysis"
   ]
  },
  {
   "cell_type": "markdown",
   "metadata": {},
   "source": [
    " This article mainly discusses how does Exploratory Data Analysis differ from Classical Data Analysis and Summary Analysis?"
   ]
  },
  {
   "cell_type": "markdown",
   "metadata": {},
   "source": [
    "### Paradigms for Analysis Techniques"
   ]
  },
  {
   "cell_type": "markdown",
   "metadata": {},
   "source": [
    "The first three approaches are similar in that they all start with a general science/engineering problem and all yield science/engineering conclusions. The difference is the sequence and focus of the intermediate steps."
   ]
  },
  {
   "cell_type": "markdown",
   "metadata": {},
   "source": [
    "For **Classical Analysis**, the sequence is:\n",
    "\n",
    "![classical Analysis image](../../images/img01.png)"
   ]
  },
  {
   "cell_type": "markdown",
   "metadata": {},
   "source": [
    "For **EDA**, the sequence is:\n",
    "\n",
    "![EDA Analysis image](../../images/img02.png)"
   ]
  },
  {
   "cell_type": "markdown",
   "metadata": {},
   "source": [
    "For **Bayesian Analysis**, the sequence is:\n",
    "\n",
    "![Bayesian Analysis image](../../images/img03.png)\n"
   ]
  },
  {
   "cell_type": "markdown",
   "metadata": {},
   "source": [
    ">**Method of dealing with underlying model for the data distinguishes the 3 approaches**"
   ]
  },
  {
   "cell_type": "markdown",
   "metadata": {},
   "source": [
    "Thus for classical analysis, the data collection is followed by the imposition of a model (normality, linearity, etc.) and the analysis, estimation, and testing that follows are focused on the parameters of that model.\n",
    "\n",
    "For EDA, the data collection is not followed by a model imposition; rather it is followed immediately by analysis with a goal of inferring what model would be appropriate.\n",
    "\n",
    "Finally, for a Bayesian analysis, the analyst attempts to incorporate scientific/engineering knowledge/expertise or SME's feedback into the analysis by imposing a data-independent distribution on the parameters of the selected model; the analysis thus consists of formally combining both the prior distribution on the parameters and the collected data to jointly make inferences and/or test assumptions about the model parameters.\n",
    "\n",
    "\n",
    ">**In the real world, data analysts freely mix elements of all of the above three approaches (and other approaches). The above distinctions were made to emphasize the major differences among the three approaches.**"
   ]
  },
  {
   "cell_type": "markdown",
   "metadata": {},
   "source": [
    "#### Further discussion of the distinction between the classical and EDA approaches"
   ]
  },
  {
   "cell_type": "markdown",
   "metadata": {},
   "source": [
    "Focusing on EDA versus classical, these two approaches differ in following aspects:\n",
    "- Models\n",
    "- Focus\n",
    "- Techniques\n",
    "- Rigor\n",
    "- Data Treatment\n",
    "- Assumptions"
   ]
  },
  {
   "cell_type": "markdown",
   "metadata": {},
   "source": [
    "#### Models 👈\n",
    "\n",
    "**Classical**\n",
    "The classical approach imposes models (both deterministic and probabilistic) on the data. Deterministic models include, for example, regression models and analysis of variance (ANOVA) models. The most common probabilistic model assumes that the errors about the deterministic model are normally distributed--this assumption affects the validity of the ANOVA F tests.\n",
    "\n",
    "**Exploratory**\n",
    "The Exploratory Data Analysis approach does not impose deterministic or probabilistic models on the data. On the contrary, the EDA approach allows the data to suggest admissible models that best fit the data."
   ]
  },
  {
   "cell_type": "markdown",
   "metadata": {},
   "source": [
    "#### Focus 👈\n",
    "**Classical**\n",
    "The two approaches differ substantially in focus. For classical analysis, the focus is on the model--estimating parameters of the model and generating predicted values from the model.\n",
    "\n",
    "**Exploratory**\n",
    "For exploratory data analysis, the focus is on the data--its structure,its representation, outliers, and models suggested by the data."
   ]
  },
  {
   "cell_type": "markdown",
   "metadata": {},
   "source": [
    "#### Techniques 👈\n",
    "**Classical**\n",
    "Classical techniques are generally quantitative in nature. They include ANOVA, t tests, chi-squared tests, and F tests.\n",
    "\n",
    "**Exploratory**\n",
    "EDA techniques are generally graphical. They include scatter plots, character plots, box plots, histograms, bihistograms, probability plots, residual plots, and mean plots."
   ]
  },
  {
   "cell_type": "markdown",
   "metadata": {},
   "source": [
    "#### Rigor 👈\n",
    "**Classical**\n",
    "Classical techniques serve as the probabilistic foundation of science and engineering; the most important characteristic of classical techniques is that they are rigorous, formal, and \"objective\".\n",
    "\n",
    "**Exploratory**\n",
    "EDA techniques do not share in that rigor or formality. EDA techniques make up for that lack of rigor by being very suggestive, indicative, and insightful about what the appropriate model should be.\n",
    "EDA techniques are subjective and depend on interpretation which may differ from analyst to analyst, although experienced analysts commonly arrive at identical conclusions."
   ]
  },
  {
   "cell_type": "markdown",
   "metadata": {},
   "source": [
    "#### Data Treatment 👈\n",
    "**Classical**\n",
    "Classical estimation techniques have the characteristic of taking all of the data and mapping the data into a few numbers (\"estimates\"). This is both a virtue and a vice. The virtue is that these few numbers focus on important characteristics (location, variation, etc.) of the population. The vice is that concentrating on these few characteristics can filter out other characteristics (skewness, tail length, autocorrelation, etc.) of the same population. In this sense there is a loss of information due to this \"filtering\" process.\n",
    "\n",
    "**Exploratory**\n",
    "The EDA approach, on the other hand, often makes use of (and shows) all of the available data. In this sense there is no corresponding loss of information."
   ]
  },
  {
   "cell_type": "markdown",
   "metadata": {},
   "source": [
    "#### Assumptions 👈\n",
    "**Classical**\n",
    "The *good news* of the classical approach is that tests based on classical techniques are usually very sensitive--that is, if a true shift in location(mean/median), say, has occurred, such tests frequently have the power to detect such a shift and to conclude that such a shift is *statistically significant*. The *bad news* is that classical tests depend on underlying assumptions (e.g., normality,linearity), and hence the validity of the test conclusions becomes dependent on the validity of the underlying assumptions. Worse yet, the exact underlying assumptions may be unknown to the analyst, or if known, untested. Thus the validity of the scientific conclusions becomes intrinsically linked to the validity of the underlying assumptions. In practice, if such assumptions are unknown or untested, the validity of the scientific conclusions becomes suspect.\n",
    "\n",
    "**Exploratory**\n",
    "Many EDA techniques make little or no assumptions--they present and show the data--all of the data--as is, with fewer encumbering assumptions."
   ]
  },
  {
   "cell_type": "markdown",
   "metadata": {},
   "source": [
    "### How Does Exploratory Data Analysis Differ from Descriptive Analysis?\n",
    "#### Descriptive Analysis\n",
    "A summary/descriptive analysis is simply a numeric reduction of a historical data set. It is quite passive. Its focus is in the past. Quite commonly, its purpose is to simply arrive at a few key statistics (for example, mean and standard deviation) which may then either replace the data set or be added to the data set in the form of a summary table.\n",
    "Descriptive statistics are used to describe the basic features of the data in a study. They provide simple summaries about the sample data and the measures.\n",
    "\n",
    "There are four major types of descriptive statistics:\n",
    "- Measures of Frequency: Count, Percent, Frequency. ...\n",
    "- Measures of Central Tendency:  Mean, Median, and Mode. ...\n",
    "- Measures of Dispersion or Variation:Range, Variance, Standard Deviation. ...\n",
    "- Measures of Position:Percentile Ranks, Quartile Ranks.\n",
    "\n",
    "\n",
    "#### Exploratory Analysis\n",
    "In contrast, EDA has as its broadest goal the desire to gain insight into the engineering/scientific process behind the data. Whereas summary statistics are passive and historical, EDA is active and futuristic. In an attempt to \"understand\" the process and improve it in the future, EDA uses the data as a \"window\" to peer into the heart of the process that generated the data. There is an archival role in the research and manufacturing world for summary statistics, but there is an enormously larger role for the EDA approach."
   ]
  },
  {
   "cell_type": "markdown",
   "metadata": {},
   "source": [
    "In the next article we will discuss the goals of EDA."
   ]
  }
 ],
 "metadata": {
  "kernelspec": {
   "display_name": "Python 3",
   "language": "python",
   "name": "python3"
  },
  "language_info": {
   "codemirror_mode": {
    "name": "ipython",
    "version": 3
   },
   "file_extension": ".py",
   "mimetype": "text/x-python",
   "name": "python",
   "nbconvert_exporter": "python",
   "pygments_lexer": "ipython3",
   "version": "3.8.3"
  }
 },
 "nbformat": 4,
 "nbformat_minor": 4
}
