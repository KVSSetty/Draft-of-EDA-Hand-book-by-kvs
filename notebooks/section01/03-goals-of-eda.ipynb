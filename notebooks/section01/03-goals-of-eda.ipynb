{
 "cells": [
  {
   "cell_type": "markdown",
   "metadata": {},
   "source": [
    "# A Series: Introduction to Exploratory Data Analysis (EDA)"
   ]
  },
  {
   "cell_type": "markdown",
   "metadata": {},
   "source": [
    "**A series of articles and tutorials presents the principles, assumptions, and techniques necessary to gain insight into data via EDA--exploratory data analysis.**"
   ]
  },
  {
   "cell_type": "markdown",
   "metadata": {},
   "source": [
    "### Sec One: EDA Introduction, Topic: Goals of EDA"
   ]
  },
  {
   "cell_type": "markdown",
   "metadata": {},
   "source": [
    "Written by: [KV Subbaih Setty](https://www.kvssetty.com).\n",
    "\n",
    "This series of articles are inspired by: https://doi.org/10.18434/M32189"
   ]
  },
  {
   "cell_type": "markdown",
   "metadata": {},
   "source": [
    "**This series of articles and tutorials is divided in to following five sections** \n",
    "\n",
    "* Section ONE:   EDA Introduction.\n",
    "* Section TWO:   EDA Assumptions.\n",
    "* Section Three: EDA techniques.\n",
    "* Section Four:  EDA case studies.\n",
    "* Section Five:  EDA Python libraries.\n",
    "\n",
    "And each section is further sub divided in to number of topics and each topic is covered in a single separate tutorial. "
   ]
  },
  {
   "cell_type": "markdown",
   "metadata": {},
   "source": [
    "\n",
    "**Table of topics of sectionONE**:\n",
    "1. [What is EDA?](https://medium.com/nerd-for-tech/what-is-eda-ec2791f48de9)\n",
    "2. [Types of Data Analysis](https://medium.com/nerd-for-tech/approaches-to-data-analysis-91f2b7a9aac0)\n",
    "3. **EDA Goals**\n",
    "4. The Role of Graphics in EDA\n",
    "5. An EDA Example\n",
    "6. General EDA Problem Categories\n",
    "\n",
    "Each topic is covered in a separate article/notebook.\n",
    "This article is topic2:Types of Data Analysis of Section ONE: EDA itroduction.\n",
    "\n"
   ]
  },
  {
   "cell_type": "markdown",
   "metadata": {},
   "source": [
    "## Topic3: Goals of EDA"
   ]
  },
  {
   "cell_type": "markdown",
   "metadata": {},
   "source": [
    "**Primary and Secondary Goals**\n",
    "The primary goal of EDA is to maximize the analyst's insight into a data set and into the underlying structure of a data set, while providing all of the specific items that an analyst would want to extract from a data set, such as:\n",
    "\n",
    "- a good-fitting, simple and parsimonious model\n",
    "- a list of outliers\n",
    "- a sense of robustness of conclusions\n",
    "- estimates for model parameters\n",
    "- uncertainties for those estimates\n",
    "- a ranked list of important features (feature importance list)\n",
    "- conclusions as to whether individual features are statistically significant\n",
    "- a hint for optimal representation of each feature.\n",
    "- a list of missing values."
   ]
  },
  {
   "cell_type": "markdown",
   "metadata": {},
   "source": [
    "### What do we mean by **Insight into the Data**?"
   ]
  },
  {
   "cell_type": "markdown",
   "metadata": {},
   "source": [
    "Insight implies detecting and uncovering underlying structure in the data. Such underlying structure may not be encapsulated in the list of items above; such items serve as the specific targets of an analysis, but the real insight and \"feel\" for a data set comes as the analyst judiciously probes and explores the various subtleties of the data. The \"feel\" for the data comes almost exclusively from the application of various graphical techniques, the collection of which serves as the window into the essence of the data. Graphics are irreplaceable--there are no quantitative analogues that will give the same insight as well-chosen graphics."
   ]
  },
  {
   "cell_type": "markdown",
   "metadata": {},
   "source": [
    ">*‘Exploratory data analysis’ is an attitude, a state of flexibility, a willingness to look for those things that we believe are not there, as well as those we believe to be there.”\n",
    "— John Tukey, Author of Exploratory Data Analysis*"
   ]
  },
  {
   "cell_type": "markdown",
   "metadata": {},
   "source": [
    "To get a \"feel\" for the data, it is not enough for the analyst to know what is in the data; the analyst also must know what is not in the data, and the only way to do that is to draw on our own human pattern-recognition and comparative abilities in the context of a series of judicious graphical techniques applied to the data."
   ]
  },
  {
   "cell_type": "markdown",
   "metadata": {},
   "source": [
    "### What questions we ask during a EDA and seek answers for them using various EDA techniques"
   ]
  },
  {
   "cell_type": "markdown",
   "metadata": {},
   "source": [
    "**EDA Questions:**\n",
    "Some common questions that exploratory data analysis is used to answer are:\n",
    "- What is a typical value in the data?\n",
    "- What is the uncertainty for a typical value?\n",
    "- what is a good distributional fit for a set of numbers?\n",
    "- What is a percentile?\n",
    "- Does an engineering modification have an effect?\n",
    "- Does a feature have an effect?\n",
    "- What are the most important features?\n",
    "- Are measurements coming from different laboratories equivalent?\n",
    "- What is the best function for relating a response variable to a set of variables?\n",
    "- What are the best representations for features?\n",
    "- Can we separate signal from noise in time dependent data?\n",
    "- Can we extract any structure from multivariate data?\n",
    "- Does the data have outliers?"
   ]
  },
  {
   "cell_type": "markdown",
   "metadata": {},
   "source": [
    "In the the next article we will discuss the role of **Data Viz (data visualisation)** tools in EDA."
   ]
  }
 ],
 "metadata": {
  "kernelspec": {
   "display_name": "Python 3",
   "language": "python",
   "name": "python3"
  },
  "language_info": {
   "codemirror_mode": {
    "name": "ipython",
    "version": 3
   },
   "file_extension": ".py",
   "mimetype": "text/x-python",
   "name": "python",
   "nbconvert_exporter": "python",
   "pygments_lexer": "ipython3",
   "version": "3.8.5"
  }
 },
 "nbformat": 4,
 "nbformat_minor": 4
}
