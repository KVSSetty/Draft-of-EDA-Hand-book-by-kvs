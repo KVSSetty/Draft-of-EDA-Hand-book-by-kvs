{
 "cells": [
  {
   "cell_type": "markdown",
   "metadata": {},
   "source": [
    "# A Series: Introduction to Exploratory Data Analysis (EDA)"
   ]
  },
  {
   "cell_type": "markdown",
   "metadata": {},
   "source": [
    "**A series of articles and tutorials presents the principles, assumptions, and techniques necessary to gain insight into data via EDA--exploratory data analysis.**"
   ]
  },
  {
   "cell_type": "markdown",
   "metadata": {},
   "source": [
    "### Sec One: EDA Introduction, Topic: The Role of Graphics (Data Visualisation)"
   ]
  },
  {
   "cell_type": "markdown",
   "metadata": {},
   "source": [
    "Written by: [KV Subbaih Setty](https://www.kvssetty.com).\n",
    "\n",
    "This series of articles are inspired by: https://doi.org/10.18434/M32189"
   ]
  },
  {
   "cell_type": "markdown",
   "metadata": {},
   "source": [
    "**This series of articles and tutorials is divided in to following five sections** \n",
    "\n",
    "* Section ONE:   EDA Introduction.\n",
    "* Section TWO:   EDA Assumptions.\n",
    "* Section Three: EDA techniques.\n",
    "* Section Four:  EDA case studies.\n",
    "* Section Five:  EDA Python libraries.\n",
    "\n",
    "And each section is further sub divided in to number of topics and each topic is covered in a single separate tutorial. "
   ]
  },
  {
   "cell_type": "markdown",
   "metadata": {},
   "source": [
    "\n",
    "**Table of topics of sectionONE**:\n",
    "1. [What is EDA?](https://medium.com/nerd-for-tech/what-is-eda-ec2791f48de9)\n",
    "2. [Types of Data Analysis](https://medium.com/nerd-for-tech/approaches-to-data-analysis-91f2b7a9aac0)\n",
    "3. [EDA Goals](https://medium.com/nerd-for-tech/goals-of-eda-42a4da883850)\n",
    "4. **The Role of Graphics in EDA**\n",
    "5. An EDA Example\n",
    "6. General EDA Problem Categories\n",
    "\n",
    "Each topic is covered in a separate article/notebook.\n",
    "This article is topic4:Role of Graphics in EDA of Section ONE: EDA itroduction.\n",
    "\n"
   ]
  },
  {
   "cell_type": "markdown",
   "metadata": {},
   "source": [
    "## Topic4: The Role of Graphics in EDA"
   ]
  },
  {
   "cell_type": "markdown",
   "metadata": {},
   "source": [
    "Data analysis procedures can broadly be split into two parts:\n",
    "- **Quantitative techniques**\n",
    "- **Graphical techniques**"
   ]
  },
  {
   "cell_type": "markdown",
   "metadata": {},
   "source": [
    "### Quantitative Techniques\n",
    "Quantitative techniques are the set of statistical procedures that yield numeric or tabular output. Examples of quantitative techniques include:\n",
    "- hypothesis testing\n",
    "- analysis of variance (ANOVA)\n",
    "- point estimates and confidence intervals\n",
    "- least squares regression\n",
    "\n",
    "**These and similar techniques are all valuable and are mainstream in terms of classical analysis approach**.\n",
    "\n",
    "(Note: Remember there four main approches to Data Analysis. See [this article](https://medium.com/nerd-for-tech/approaches-to-data-analysis-91f2b7a9aac0) for more information about the approches of data analysis. And don't get confused with approches and techniques)"
   ]
  },
  {
   "cell_type": "markdown",
   "metadata": {},
   "source": [
    "Graphical On the other hand, there is a large collection of statistical tools that we generally refer to as graphical techniques. These include:\n",
    "scatter plots\n",
    "histograms\n",
    "probability plots\n",
    "residual plots\n",
    "box plots\n",
    "block plots"
   ]
  },
  {
   "cell_type": "markdown",
   "metadata": {},
   "source": [
    "### Graphical Techniques\n",
    "On the other hand, there is a large collection of statistical graphing tools that we generally refer to as data visualisation techniques. These include:\n",
    "- scatter plots\n",
    "- histograms\n",
    "- distribution plots\n",
    "- error bars\n",
    "- box plots\n",
    "- violin plots\n",
    "\n",
    "**These and similar techniques are all valuable and are mainstream in terms of EDA approach.**"
   ]
  },
  {
   "cell_type": "markdown",
   "metadata": {},
   "source": [
    "### EDA Approach Relies Heavily on Graphical Techniques"
   ]
  },
  {
   "cell_type": "markdown",
   "metadata": {},
   "source": [
    "The EDA approach relies heavily on these and similar graphical visualisation techniques. Graphical procedures are not just tools that we could use in an EDA context, they are tools that we must use. Such graphical tools are the shortest path to gaining insight into a dataset in terms of\n",
    "- testing assumptions\n",
    "- model selection\n",
    "- model validation\n",
    "- estimator selection\n",
    "- relationship identification\n",
    "- feature effect determination\n",
    "- outlier detection\n",
    "If one is not using statistical graphics, then one is forfeiting insight into one or more aspects of the underlying structure of the data."
   ]
  },
  {
   "cell_type": "markdown",
   "metadata": {},
   "source": [
    "### Summary:"
   ]
  },
  {
   "cell_type": "markdown",
   "metadata": {},
   "source": [
    "We mainly have two techniques for data analysis namely: quantative and graphical.\n",
    "\n",
    "Quantative techniques are so called becuase the end result of analysis is a statistical numerical quantity or a table of numerical quantites.And they are mainly used in Classical Data Analysis Approach.\n",
    "\n",
    "Graphical techniques as so called because we use visual graphs detecting the data patterns/structures in datasets.And they are mainly used in EDA Approach."
   ]
  },
  {
   "cell_type": "markdown",
   "metadata": {},
   "source": [
    "In the next article we take a simple dataset and show the central role that graphics play in terms of providing insight into a dataset.\n",
    "\n",
    "And also illustrate that the **quantative approach** is incopmlete and misleading at times, which comples us to use better approches like **EDA**, its main stream technique being graphs, plots, charts and other visualisations."
   ]
  }
 ],
 "metadata": {
  "kernelspec": {
   "display_name": "Python 3",
   "language": "python",
   "name": "python3"
  },
  "language_info": {
   "codemirror_mode": {
    "name": "ipython",
    "version": 3
   },
   "file_extension": ".py",
   "mimetype": "text/x-python",
   "name": "python",
   "nbconvert_exporter": "python",
   "pygments_lexer": "ipython3",
   "version": "3.8.5"
  }
 },
 "nbformat": 4,
 "nbformat_minor": 4
}
