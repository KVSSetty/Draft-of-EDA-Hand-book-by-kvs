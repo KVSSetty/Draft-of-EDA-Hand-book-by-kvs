{
 "cells": [
  {
   "cell_type": "markdown",
   "metadata": {},
   "source": [
    "# An EDA example\n",
    "## Topic 05 of Section 01 of Intoduction to Exploratory Data Analysis Series\n",
    "."
   ]
  },
  {
   "cell_type": "markdown",
   "metadata": {},
   "source": [
    "Written by: [KV Subbaih Setty](https://www.kvssetty.com).\n",
    "\n",
    "This series of articles are inspired by: https://doi.org/10.18434/M32189"
   ]
  },
  {
   "cell_type": "markdown",
   "metadata": {},
   "source": [
    "**This series of articles and tutorials is divided in to following five sections** \n",
    "\n",
    "* Section ONE:   EDA Introduction.\n",
    "* Section TWO:   EDA Assumptions.\n",
    "* Section Three: EDA techniques.\n",
    "* Section Four:  EDA case studies.\n",
    "* Section Five:  EDA Python libraries.\n",
    "\n",
    "And each section is further sub divided in to number of topics and each topic is covered in a single separate tutorial. "
   ]
  },
  {
   "cell_type": "markdown",
   "metadata": {},
   "source": [
    "\n",
    "**Table of topics of sectionONE**:\n",
    "1. [What is EDA?](https://medium.com/nerd-for-tech/what-is-eda-ec2791f48de9)\n",
    "2. [Types of Data Analysis](https://medium.com/nerd-for-tech/approaches-to-data-analysis-91f2b7a9aac0)\n",
    "3. [EDA Goals](https://medium.com/nerd-for-tech/goals-of-eda-42a4da883850)\n",
    "4. [The Role of Graphics in EDA](https://medium.com/nerd-for-tech/role-of-graphics-in-eda-38578f623c73)\n",
    "5. **An EDA Example** (This Article)\n",
    "6. General EDA Problem Categories\n",
    "\n",
    "Each topic is covered in a separate article/notebook.\n",
    "This article is topic5:An EDA Example in EDA of Section ONE: EDA itroduction.\n",
    "\n"
   ]
  },
  {
   "cell_type": "markdown",
   "metadata": {},
   "source": [
    "## Topic 05: An EDA Example"
   ]
  },
  {
   "cell_type": "markdown",
   "metadata": {},
   "source": [
    "In the previous article we said that there are two techniques or procedures for data analysis, namely \n",
    "- **Quantitative techniques**\n",
    "- **Graphical techniques**"
   ]
  },
  {
   "cell_type": "markdown",
   "metadata": {},
   "source": [
    "In this tutrorial we will use both the methods on four different datasets and prove that quantative techniques are misleading some times and  garphical technique (EDA) is the the way to go.\n",
    "But in reality most practical analysis involve both the methods.For more details on these techniques see the [previous article](https://medium.com/nerd-for-tech/role-of-graphics-in-eda-38578f623c73) of the EDA series"
   ]
  },
  {
   "cell_type": "markdown",
   "metadata": {},
   "source": [
    "**Anscombe Example**: A simple, classic dataset (Anscombe’s quartet) is used to illustrate central role that graphics play in terms of providing insight into a dataset. "
   ]
  },
  {
   "cell_type": "markdown",
   "metadata": {},
   "source": [
    "According to the definition given in [**Wikipedia**,](https://en.wikipedia.org/wiki/Anscombe%27s_quartet) Anscombe’s quartet comprises four datasets that have nearly identical simple statistical properties, yet appear very different when graphed. Each dataset consists of eleven (x,y) data points. They were constructed in 1973 by the statistician Francis Anscombe to demonstrate both the importance of graphing data before modeling it and the effect of outliers on statistical properties."
   ]
  },
  {
   "cell_type": "markdown",
   "metadata": {},
   "source": [
    "First, let us import the Anscombe's quartet  dataset using pandas and separate the quartet in to four datasets."
   ]
  },
  {
   "cell_type": "code",
   "execution_count": 1,
   "metadata": {},
   "outputs": [],
   "source": [
    "import pandas as pd\n",
    "anscombe_df = pd.read_csv(\"../../datasets/anscombe.csv\") "
   ]
  },
  {
   "cell_type": "code",
   "execution_count": 2,
   "metadata": {},
   "outputs": [
    {
     "data": {
      "text/html": [
       "<div>\n",
       "<style scoped>\n",
       "    .dataframe tbody tr th:only-of-type {\n",
       "        vertical-align: middle;\n",
       "    }\n",
       "\n",
       "    .dataframe tbody tr th {\n",
       "        vertical-align: top;\n",
       "    }\n",
       "\n",
       "    .dataframe thead th {\n",
       "        text-align: right;\n",
       "    }\n",
       "</style>\n",
       "<table border=\"1\" class=\"dataframe\">\n",
       "  <thead>\n",
       "    <tr style=\"text-align: right;\">\n",
       "      <th></th>\n",
       "      <th>x1</th>\n",
       "      <th>x2</th>\n",
       "      <th>x3</th>\n",
       "      <th>x4</th>\n",
       "      <th>y1</th>\n",
       "      <th>y2</th>\n",
       "      <th>y3</th>\n",
       "      <th>y4</th>\n",
       "    </tr>\n",
       "  </thead>\n",
       "  <tbody>\n",
       "    <tr>\n",
       "      <th>0</th>\n",
       "      <td>10</td>\n",
       "      <td>10</td>\n",
       "      <td>10</td>\n",
       "      <td>8</td>\n",
       "      <td>8.04</td>\n",
       "      <td>9.14</td>\n",
       "      <td>7.46</td>\n",
       "      <td>6.58</td>\n",
       "    </tr>\n",
       "    <tr>\n",
       "      <th>1</th>\n",
       "      <td>8</td>\n",
       "      <td>8</td>\n",
       "      <td>8</td>\n",
       "      <td>8</td>\n",
       "      <td>6.95</td>\n",
       "      <td>8.14</td>\n",
       "      <td>6.77</td>\n",
       "      <td>5.76</td>\n",
       "    </tr>\n",
       "    <tr>\n",
       "      <th>2</th>\n",
       "      <td>13</td>\n",
       "      <td>13</td>\n",
       "      <td>13</td>\n",
       "      <td>8</td>\n",
       "      <td>7.58</td>\n",
       "      <td>8.74</td>\n",
       "      <td>12.74</td>\n",
       "      <td>7.71</td>\n",
       "    </tr>\n",
       "    <tr>\n",
       "      <th>3</th>\n",
       "      <td>9</td>\n",
       "      <td>9</td>\n",
       "      <td>9</td>\n",
       "      <td>8</td>\n",
       "      <td>8.81</td>\n",
       "      <td>8.77</td>\n",
       "      <td>7.11</td>\n",
       "      <td>8.84</td>\n",
       "    </tr>\n",
       "    <tr>\n",
       "      <th>4</th>\n",
       "      <td>11</td>\n",
       "      <td>11</td>\n",
       "      <td>11</td>\n",
       "      <td>8</td>\n",
       "      <td>8.33</td>\n",
       "      <td>9.26</td>\n",
       "      <td>7.81</td>\n",
       "      <td>8.47</td>\n",
       "    </tr>\n",
       "    <tr>\n",
       "      <th>5</th>\n",
       "      <td>14</td>\n",
       "      <td>14</td>\n",
       "      <td>14</td>\n",
       "      <td>8</td>\n",
       "      <td>9.96</td>\n",
       "      <td>8.10</td>\n",
       "      <td>8.84</td>\n",
       "      <td>7.04</td>\n",
       "    </tr>\n",
       "    <tr>\n",
       "      <th>6</th>\n",
       "      <td>6</td>\n",
       "      <td>6</td>\n",
       "      <td>6</td>\n",
       "      <td>8</td>\n",
       "      <td>7.24</td>\n",
       "      <td>6.13</td>\n",
       "      <td>6.08</td>\n",
       "      <td>5.25</td>\n",
       "    </tr>\n",
       "    <tr>\n",
       "      <th>7</th>\n",
       "      <td>4</td>\n",
       "      <td>4</td>\n",
       "      <td>4</td>\n",
       "      <td>19</td>\n",
       "      <td>4.26</td>\n",
       "      <td>3.10</td>\n",
       "      <td>5.39</td>\n",
       "      <td>12.50</td>\n",
       "    </tr>\n",
       "    <tr>\n",
       "      <th>8</th>\n",
       "      <td>12</td>\n",
       "      <td>12</td>\n",
       "      <td>12</td>\n",
       "      <td>8</td>\n",
       "      <td>10.84</td>\n",
       "      <td>9.13</td>\n",
       "      <td>8.15</td>\n",
       "      <td>5.56</td>\n",
       "    </tr>\n",
       "    <tr>\n",
       "      <th>9</th>\n",
       "      <td>7</td>\n",
       "      <td>7</td>\n",
       "      <td>7</td>\n",
       "      <td>8</td>\n",
       "      <td>4.82</td>\n",
       "      <td>7.26</td>\n",
       "      <td>6.42</td>\n",
       "      <td>7.91</td>\n",
       "    </tr>\n",
       "    <tr>\n",
       "      <th>10</th>\n",
       "      <td>5</td>\n",
       "      <td>5</td>\n",
       "      <td>5</td>\n",
       "      <td>8</td>\n",
       "      <td>5.68</td>\n",
       "      <td>4.74</td>\n",
       "      <td>5.73</td>\n",
       "      <td>6.89</td>\n",
       "    </tr>\n",
       "  </tbody>\n",
       "</table>\n",
       "</div>"
      ],
      "text/plain": [
       "    x1  x2  x3  x4     y1    y2     y3     y4\n",
       "0   10  10  10   8   8.04  9.14   7.46   6.58\n",
       "1    8   8   8   8   6.95  8.14   6.77   5.76\n",
       "2   13  13  13   8   7.58  8.74  12.74   7.71\n",
       "3    9   9   9   8   8.81  8.77   7.11   8.84\n",
       "4   11  11  11   8   8.33  9.26   7.81   8.47\n",
       "5   14  14  14   8   9.96  8.10   8.84   7.04\n",
       "6    6   6   6   8   7.24  6.13   6.08   5.25\n",
       "7    4   4   4  19   4.26  3.10   5.39  12.50\n",
       "8   12  12  12   8  10.84  9.13   8.15   5.56\n",
       "9    7   7   7   8   4.82  7.26   6.42   7.91\n",
       "10   5   5   5   8   5.68  4.74   5.73   6.89"
      ]
     },
     "execution_count": 2,
     "metadata": {},
     "output_type": "execute_result"
    }
   ],
   "source": [
    "anscombe_df"
   ]
  },
  {
   "cell_type": "code",
   "execution_count": 3,
   "metadata": {},
   "outputs": [],
   "source": [
    "# separate in to four datasets\n",
    "df1 = anscombe_df[['x1', 'y1']]\n",
    "df2 = anscombe_df[['x2', 'y2']]\n",
    "df3 = anscombe_df[['x3', 'y3']]\n",
    "df4 = anscombe_df[['x4', 'y4']]"
   ]
  },
  {
   "cell_type": "code",
   "execution_count": 4,
   "metadata": {},
   "outputs": [
    {
     "data": {
      "text/html": [
       "<div>\n",
       "<style scoped>\n",
       "    .dataframe tbody tr th:only-of-type {\n",
       "        vertical-align: middle;\n",
       "    }\n",
       "\n",
       "    .dataframe tbody tr th {\n",
       "        vertical-align: top;\n",
       "    }\n",
       "\n",
       "    .dataframe thead th {\n",
       "        text-align: right;\n",
       "    }\n",
       "</style>\n",
       "<table border=\"1\" class=\"dataframe\">\n",
       "  <thead>\n",
       "    <tr style=\"text-align: right;\">\n",
       "      <th></th>\n",
       "      <th>x1</th>\n",
       "      <th>y1</th>\n",
       "    </tr>\n",
       "  </thead>\n",
       "  <tbody>\n",
       "    <tr>\n",
       "      <th>0</th>\n",
       "      <td>10</td>\n",
       "      <td>8.04</td>\n",
       "    </tr>\n",
       "    <tr>\n",
       "      <th>1</th>\n",
       "      <td>8</td>\n",
       "      <td>6.95</td>\n",
       "    </tr>\n",
       "    <tr>\n",
       "      <th>2</th>\n",
       "      <td>13</td>\n",
       "      <td>7.58</td>\n",
       "    </tr>\n",
       "    <tr>\n",
       "      <th>3</th>\n",
       "      <td>9</td>\n",
       "      <td>8.81</td>\n",
       "    </tr>\n",
       "    <tr>\n",
       "      <th>4</th>\n",
       "      <td>11</td>\n",
       "      <td>8.33</td>\n",
       "    </tr>\n",
       "    <tr>\n",
       "      <th>5</th>\n",
       "      <td>14</td>\n",
       "      <td>9.96</td>\n",
       "    </tr>\n",
       "    <tr>\n",
       "      <th>6</th>\n",
       "      <td>6</td>\n",
       "      <td>7.24</td>\n",
       "    </tr>\n",
       "    <tr>\n",
       "      <th>7</th>\n",
       "      <td>4</td>\n",
       "      <td>4.26</td>\n",
       "    </tr>\n",
       "    <tr>\n",
       "      <th>8</th>\n",
       "      <td>12</td>\n",
       "      <td>10.84</td>\n",
       "    </tr>\n",
       "    <tr>\n",
       "      <th>9</th>\n",
       "      <td>7</td>\n",
       "      <td>4.82</td>\n",
       "    </tr>\n",
       "    <tr>\n",
       "      <th>10</th>\n",
       "      <td>5</td>\n",
       "      <td>5.68</td>\n",
       "    </tr>\n",
       "  </tbody>\n",
       "</table>\n",
       "</div>"
      ],
      "text/plain": [
       "    x1     y1\n",
       "0   10   8.04\n",
       "1    8   6.95\n",
       "2   13   7.58\n",
       "3    9   8.81\n",
       "4   11   8.33\n",
       "5   14   9.96\n",
       "6    6   7.24\n",
       "7    4   4.26\n",
       "8   12  10.84\n",
       "9    7   4.82\n",
       "10   5   5.68"
      ]
     },
     "execution_count": 4,
     "metadata": {},
     "output_type": "execute_result"
    }
   ],
   "source": [
    "# look at df1\n",
    "df1"
   ]
  },
  {
   "cell_type": "markdown",
   "metadata": {},
   "source": [
    "### Summary Statistics of dataset df1\n",
    "If the goal of the analysis is to compute quantitative statistics plus determine the best linear fit for`y1` as a function of `x1`, the results might be given as (see the annexture at the end):\n",
    "- N = 11\n",
    "- Mean of X = 9.0\n",
    "- Mean of Y = 7.5\n",
    "- Intercept = 3\n",
    "- Slope = 0.5\n",
    "- Residual standard deviation = 1.237\n",
    "- Correlation = 0.816\n",
    "\n",
    "The above quantitative analysis, although valuable, gives us only limited insight into the data."
   ]
  },
  {
   "cell_type": "markdown",
   "metadata": {},
   "source": [
    "### Scatter Plot of dataset df1\n",
    "In contrast, the following simple scatter plot of the data"
   ]
  },
  {
   "cell_type": "markdown",
   "metadata": {},
   "source": [
    "suggests the following:\n",
    "\n",
    "1. The data set \"behaves like\" a linear curve with some scatter;\n",
    "2. There is no justification for a more complicated model (e.g., quadratic);\n",
    "3. There are no outliers;\n",
    "4. The vertical spread of the data appears to be of equal height irrespective of the X. value; this indicates that the data are equally-precise throughout and so a \"regular\" (that is, equi-weighted) fit is appropriate."
   ]
  },
  {
   "cell_type": "code",
   "execution_count": 5,
   "metadata": {
    "jupyter": {
     "source_hidden": true
    }
   },
   "outputs": [
    {
     "data": {
      "image/png": "[encoded data removed]",
      "text/plain": [
       "<Figure size 360x360 with 1 Axes>"
      ]
     },
     "metadata": {
      "needs_background": "light"
     },
     "output_type": "display_data"
    }
   ],
   "source": [
    "import seaborn as sns\n",
    "\n",
    "g = sns.lmplot(data=df1, x=\"x1\", y=\"y1\")\n",
    "   \n",
    "\n"
   ]
  },
  {
   "cell_type": "markdown",
   "metadata": {},
   "source": [
    "This kind of characterization for the data serves as the core for getting insight/feel for the data. Such insight/feel does not come from the quantitative statistics; on the contrary, calculations of quantitative statistics such as intercept and slope should be subsequent to the characterization and will make sense only if the characterization is true. "
   ]
  },
  {
   "cell_type": "markdown",
   "metadata": {},
   "source": [
    "### Three Additional Data Sets"
   ]
  },
  {
   "cell_type": "markdown",
   "metadata": {},
   "source": [
    "To illustrate the loss of information that results when the graphics insight step is skipped, consider the following three data sets"
   ]
  },
  {
   "cell_type": "code",
   "execution_count": 6,
   "metadata": {},
   "outputs": [
    {
     "name": "stdout",
     "output_type": "stream",
     "text": [
      "    x2    y2  x3     y3  x4     y4\n",
      "0   10  9.14  10   7.46   8   6.58\n",
      "1    8  8.14   8   6.77   8   5.76\n",
      "2   13  8.74  13  12.74   8   7.71\n",
      "3    9  8.77   9   7.11   8   8.84\n",
      "4   11  9.26  11   7.81   8   8.47\n",
      "5   14  8.10  14   8.84   8   7.04\n",
      "6    6  6.13   6   6.08   8   5.25\n",
      "7    4  3.10   4   5.39  19  12.50\n",
      "8   12  9.13  12   8.15   8   5.56\n",
      "9    7  7.26   7   6.42   8   7.91\n",
      "10   5  4.74   5   5.73   8   6.89\n"
     ]
    }
   ],
   "source": [
    "print (pd.concat([df2.reset_index(drop=1),df3.reset_index(drop=1),df4.reset_index(drop=1)], axis=1))"
   ]
  },
  {
   "cell_type": "markdown",
   "metadata": {},
   "source": [
    "#### Quantitative Statistics for Data Set 2\n",
    "A quantitative analysis on data set 2 yields:\n",
    "- N = 11\n",
    "- Mean of X = 9.0\n",
    "- Mean of Y = 7.5\n",
    "- Intercept = 3\n",
    "- Slope = 0.5\n",
    "- Residual standard deviation = 1.237\n",
    "- Correlation = 0.816\n",
    "\n",
    "which is identical to the analysis for data set 1. One might naively assume that the two data sets are \"equivalent\" since that is what the statistics tell us; but what do the statistics not tell us?"
   ]
  },
  {
   "cell_type": "markdown",
   "metadata": {},
   "source": [
    "#### Quantitative Statistics for Data Sets 3 and 4\n",
    "Remarkably, a quantitative analysis on data sets 3 and 4 also yields:\n",
    "- N = 11\n",
    "- Mean of X = 9.0\n",
    "- Mean of Y = 7.5\n",
    "- Intercept = 3\n",
    "- Slope = 0.5\n",
    "- Residual standard deviation = 1.236\n",
    "- Correlation = 0.816 (0.817 for data set 4)\n",
    "\n",
    "which implies that in some quantitative sense, all four of the data sets are **equivalent**. In fact, the four data sets are **far from equivalent** and a scatter plot of each data set, which would be step 1 of any EDA approach, would tell us that immediately."
   ]
  },
  {
   "cell_type": "markdown",
   "metadata": {},
   "source": [
    "#### The scatter plots of anscombe dataset:"
   ]
  },
  {
   "cell_type": "code",
   "execution_count": 7,
   "metadata": {},
   "outputs": [],
   "source": [
    "import seaborn as sns\n",
    "sns.set_style()\n",
    "\n",
    "# Load the example dataset for Anscombe's quartet, \n",
    "df = sns.load_dataset(\"anscombe\")"
   ]
  },
  {
   "cell_type": "markdown",
   "metadata": {},
   "source": [
    "**Note:** the seaborn has a built in anscombe dataset, which is saved slightly diffrently compared to what we imported earlier as shown below:"
   ]
  },
  {
   "cell_type": "code",
   "execution_count": 8,
   "metadata": {},
   "outputs": [
    {
     "data": {
      "text/html": [
       "<div>\n",
       "<style scoped>\n",
       "    .dataframe tbody tr th:only-of-type {\n",
       "        vertical-align: middle;\n",
       "    }\n",
       "\n",
       "    .dataframe tbody tr th {\n",
       "        vertical-align: top;\n",
       "    }\n",
       "\n",
       "    .dataframe thead th {\n",
       "        text-align: right;\n",
       "    }\n",
       "</style>\n",
       "<table border=\"1\" class=\"dataframe\">\n",
       "  <thead>\n",
       "    <tr style=\"text-align: right;\">\n",
       "      <th></th>\n",
       "      <th>dataset</th>\n",
       "      <th>x</th>\n",
       "      <th>y</th>\n",
       "    </tr>\n",
       "  </thead>\n",
       "  <tbody>\n",
       "    <tr>\n",
       "      <th>0</th>\n",
       "      <td>I</td>\n",
       "      <td>10.0</td>\n",
       "      <td>8.04</td>\n",
       "    </tr>\n",
       "    <tr>\n",
       "      <th>1</th>\n",
       "      <td>I</td>\n",
       "      <td>8.0</td>\n",
       "      <td>6.95</td>\n",
       "    </tr>\n",
       "    <tr>\n",
       "      <th>2</th>\n",
       "      <td>I</td>\n",
       "      <td>13.0</td>\n",
       "      <td>7.58</td>\n",
       "    </tr>\n",
       "    <tr>\n",
       "      <th>3</th>\n",
       "      <td>I</td>\n",
       "      <td>9.0</td>\n",
       "      <td>8.81</td>\n",
       "    </tr>\n",
       "    <tr>\n",
       "      <th>4</th>\n",
       "      <td>I</td>\n",
       "      <td>11.0</td>\n",
       "      <td>8.33</td>\n",
       "    </tr>\n",
       "    <tr>\n",
       "      <th>5</th>\n",
       "      <td>I</td>\n",
       "      <td>14.0</td>\n",
       "      <td>9.96</td>\n",
       "    </tr>\n",
       "    <tr>\n",
       "      <th>6</th>\n",
       "      <td>I</td>\n",
       "      <td>6.0</td>\n",
       "      <td>7.24</td>\n",
       "    </tr>\n",
       "    <tr>\n",
       "      <th>7</th>\n",
       "      <td>I</td>\n",
       "      <td>4.0</td>\n",
       "      <td>4.26</td>\n",
       "    </tr>\n",
       "    <tr>\n",
       "      <th>8</th>\n",
       "      <td>I</td>\n",
       "      <td>12.0</td>\n",
       "      <td>10.84</td>\n",
       "    </tr>\n",
       "    <tr>\n",
       "      <th>9</th>\n",
       "      <td>I</td>\n",
       "      <td>7.0</td>\n",
       "      <td>4.82</td>\n",
       "    </tr>\n",
       "    <tr>\n",
       "      <th>10</th>\n",
       "      <td>I</td>\n",
       "      <td>5.0</td>\n",
       "      <td>5.68</td>\n",
       "    </tr>\n",
       "    <tr>\n",
       "      <th>11</th>\n",
       "      <td>II</td>\n",
       "      <td>10.0</td>\n",
       "      <td>9.14</td>\n",
       "    </tr>\n",
       "    <tr>\n",
       "      <th>12</th>\n",
       "      <td>II</td>\n",
       "      <td>8.0</td>\n",
       "      <td>8.14</td>\n",
       "    </tr>\n",
       "    <tr>\n",
       "      <th>13</th>\n",
       "      <td>II</td>\n",
       "      <td>13.0</td>\n",
       "      <td>8.74</td>\n",
       "    </tr>\n",
       "    <tr>\n",
       "      <th>14</th>\n",
       "      <td>II</td>\n",
       "      <td>9.0</td>\n",
       "      <td>8.77</td>\n",
       "    </tr>\n",
       "    <tr>\n",
       "      <th>15</th>\n",
       "      <td>II</td>\n",
       "      <td>11.0</td>\n",
       "      <td>9.26</td>\n",
       "    </tr>\n",
       "    <tr>\n",
       "      <th>16</th>\n",
       "      <td>II</td>\n",
       "      <td>14.0</td>\n",
       "      <td>8.10</td>\n",
       "    </tr>\n",
       "    <tr>\n",
       "      <th>17</th>\n",
       "      <td>II</td>\n",
       "      <td>6.0</td>\n",
       "      <td>6.13</td>\n",
       "    </tr>\n",
       "    <tr>\n",
       "      <th>18</th>\n",
       "      <td>II</td>\n",
       "      <td>4.0</td>\n",
       "      <td>3.10</td>\n",
       "    </tr>\n",
       "    <tr>\n",
       "      <th>19</th>\n",
       "      <td>II</td>\n",
       "      <td>12.0</td>\n",
       "      <td>9.13</td>\n",
       "    </tr>\n",
       "    <tr>\n",
       "      <th>20</th>\n",
       "      <td>II</td>\n",
       "      <td>7.0</td>\n",
       "      <td>7.26</td>\n",
       "    </tr>\n",
       "    <tr>\n",
       "      <th>21</th>\n",
       "      <td>II</td>\n",
       "      <td>5.0</td>\n",
       "      <td>4.74</td>\n",
       "    </tr>\n",
       "    <tr>\n",
       "      <th>22</th>\n",
       "      <td>III</td>\n",
       "      <td>10.0</td>\n",
       "      <td>7.46</td>\n",
       "    </tr>\n",
       "    <tr>\n",
       "      <th>23</th>\n",
       "      <td>III</td>\n",
       "      <td>8.0</td>\n",
       "      <td>6.77</td>\n",
       "    </tr>\n",
       "    <tr>\n",
       "      <th>24</th>\n",
       "      <td>III</td>\n",
       "      <td>13.0</td>\n",
       "      <td>12.74</td>\n",
       "    </tr>\n",
       "    <tr>\n",
       "      <th>25</th>\n",
       "      <td>III</td>\n",
       "      <td>9.0</td>\n",
       "      <td>7.11</td>\n",
       "    </tr>\n",
       "    <tr>\n",
       "      <th>26</th>\n",
       "      <td>III</td>\n",
       "      <td>11.0</td>\n",
       "      <td>7.81</td>\n",
       "    </tr>\n",
       "    <tr>\n",
       "      <th>27</th>\n",
       "      <td>III</td>\n",
       "      <td>14.0</td>\n",
       "      <td>8.84</td>\n",
       "    </tr>\n",
       "    <tr>\n",
       "      <th>28</th>\n",
       "      <td>III</td>\n",
       "      <td>6.0</td>\n",
       "      <td>6.08</td>\n",
       "    </tr>\n",
       "    <tr>\n",
       "      <th>29</th>\n",
       "      <td>III</td>\n",
       "      <td>4.0</td>\n",
       "      <td>5.39</td>\n",
       "    </tr>\n",
       "    <tr>\n",
       "      <th>30</th>\n",
       "      <td>III</td>\n",
       "      <td>12.0</td>\n",
       "      <td>8.15</td>\n",
       "    </tr>\n",
       "    <tr>\n",
       "      <th>31</th>\n",
       "      <td>III</td>\n",
       "      <td>7.0</td>\n",
       "      <td>6.42</td>\n",
       "    </tr>\n",
       "    <tr>\n",
       "      <th>32</th>\n",
       "      <td>III</td>\n",
       "      <td>5.0</td>\n",
       "      <td>5.73</td>\n",
       "    </tr>\n",
       "    <tr>\n",
       "      <th>33</th>\n",
       "      <td>IV</td>\n",
       "      <td>8.0</td>\n",
       "      <td>6.58</td>\n",
       "    </tr>\n",
       "    <tr>\n",
       "      <th>34</th>\n",
       "      <td>IV</td>\n",
       "      <td>8.0</td>\n",
       "      <td>5.76</td>\n",
       "    </tr>\n",
       "    <tr>\n",
       "      <th>35</th>\n",
       "      <td>IV</td>\n",
       "      <td>8.0</td>\n",
       "      <td>7.71</td>\n",
       "    </tr>\n",
       "    <tr>\n",
       "      <th>36</th>\n",
       "      <td>IV</td>\n",
       "      <td>8.0</td>\n",
       "      <td>8.84</td>\n",
       "    </tr>\n",
       "    <tr>\n",
       "      <th>37</th>\n",
       "      <td>IV</td>\n",
       "      <td>8.0</td>\n",
       "      <td>8.47</td>\n",
       "    </tr>\n",
       "    <tr>\n",
       "      <th>38</th>\n",
       "      <td>IV</td>\n",
       "      <td>8.0</td>\n",
       "      <td>7.04</td>\n",
       "    </tr>\n",
       "    <tr>\n",
       "      <th>39</th>\n",
       "      <td>IV</td>\n",
       "      <td>8.0</td>\n",
       "      <td>5.25</td>\n",
       "    </tr>\n",
       "    <tr>\n",
       "      <th>40</th>\n",
       "      <td>IV</td>\n",
       "      <td>19.0</td>\n",
       "      <td>12.50</td>\n",
       "    </tr>\n",
       "    <tr>\n",
       "      <th>41</th>\n",
       "      <td>IV</td>\n",
       "      <td>8.0</td>\n",
       "      <td>5.56</td>\n",
       "    </tr>\n",
       "    <tr>\n",
       "      <th>42</th>\n",
       "      <td>IV</td>\n",
       "      <td>8.0</td>\n",
       "      <td>7.91</td>\n",
       "    </tr>\n",
       "    <tr>\n",
       "      <th>43</th>\n",
       "      <td>IV</td>\n",
       "      <td>8.0</td>\n",
       "      <td>6.89</td>\n",
       "    </tr>\n",
       "  </tbody>\n",
       "</table>\n",
       "</div>"
      ],
      "text/plain": [
       "   dataset     x      y\n",
       "0        I  10.0   8.04\n",
       "1        I   8.0   6.95\n",
       "2        I  13.0   7.58\n",
       "3        I   9.0   8.81\n",
       "4        I  11.0   8.33\n",
       "5        I  14.0   9.96\n",
       "6        I   6.0   7.24\n",
       "7        I   4.0   4.26\n",
       "8        I  12.0  10.84\n",
       "9        I   7.0   4.82\n",
       "10       I   5.0   5.68\n",
       "11      II  10.0   9.14\n",
       "12      II   8.0   8.14\n",
       "13      II  13.0   8.74\n",
       "14      II   9.0   8.77\n",
       "15      II  11.0   9.26\n",
       "16      II  14.0   8.10\n",
       "17      II   6.0   6.13\n",
       "18      II   4.0   3.10\n",
       "19      II  12.0   9.13\n",
       "20      II   7.0   7.26\n",
       "21      II   5.0   4.74\n",
       "22     III  10.0   7.46\n",
       "23     III   8.0   6.77\n",
       "24     III  13.0  12.74\n",
       "25     III   9.0   7.11\n",
       "26     III  11.0   7.81\n",
       "27     III  14.0   8.84\n",
       "28     III   6.0   6.08\n",
       "29     III   4.0   5.39\n",
       "30     III  12.0   8.15\n",
       "31     III   7.0   6.42\n",
       "32     III   5.0   5.73\n",
       "33      IV   8.0   6.58\n",
       "34      IV   8.0   5.76\n",
       "35      IV   8.0   7.71\n",
       "36      IV   8.0   8.84\n",
       "37      IV   8.0   8.47\n",
       "38      IV   8.0   7.04\n",
       "39      IV   8.0   5.25\n",
       "40      IV  19.0  12.50\n",
       "41      IV   8.0   5.56\n",
       "42      IV   8.0   7.91\n",
       "43      IV   8.0   6.89"
      ]
     },
     "execution_count": 8,
     "metadata": {},
     "output_type": "execute_result"
    }
   ],
   "source": [
    "df\n"
   ]
  },
  {
   "cell_type": "code",
   "execution_count": 9,
   "metadata": {},
   "outputs": [
    {
     "data": {
      "text/plain": [
       "<seaborn.axisgrid.FacetGrid at 0x203d6ca8850>"
      ]
     },
     "execution_count": 9,
     "metadata": {},
     "output_type": "execute_result"
    },
    {
     "data": {
      "image/png": "[encoded data removed]",
      "text/plain": [
       "<Figure size 576x576 with 4 Axes>"
      ]
     },
     "metadata": {
      "needs_background": "light"
     },
     "output_type": "display_data"
    }
   ],
   "source": [
    "# Show the results of a linear regression within each dataset\n",
    "sns.lmplot(x=\"x\", y=\"y\", col=\"dataset\", hue=\"dataset\", data=df,\n",
    "           col_wrap=2, ci=None, palette=\"muted\", height=4,\n",
    "           scatter_kws={\"s\": 50, \"alpha\": 1})"
   ]
  },
  {
   "cell_type": "markdown",
   "metadata": {},
   "source": [
    "#### Interpretation of Scatter Plots\n",
    "Conclusions from the scatter plots are:\n",
    "- data set 1 is clearly linear with some scatter.\n",
    "- data set 2 is clearly quadratic.\n",
    "- data set 3 clearly has an outlier.\n",
    "- data set 4 is obviously the victim of a poor experimental design with a single point far removed from the bulk of the data \"wagging the dog\"."
   ]
  },
  {
   "cell_type": "markdown",
   "metadata": {},
   "source": [
    "#### Importance of Exploratory Analysis"
   ]
  },
  {
   "cell_type": "markdown",
   "metadata": {},
   "source": [
    "The above bullet points are exactly the substance that provide and define \"insight\" and \"feel\" for a data set. They are the goals and the fruits of an open exploratory data analysis (EDA) approach to the data. Quantitative statistics are not wrong per se, but they are incomplete. They are incomplete because they are **numeric summaries** which in the summarization operation do a good job of focusing on a particular aspect of the data (e.g., mean, intercept, slope, degree of relatedness, etc.) by judiciously reducing the data to a few numbers. Doing so also **filters** the data, necessarily omitting and screening out other sometimes crucial information in the focusing operation. Quantitative statistics focus but also filter; and filtering is exactly what makes the quantitative approach incomplete at best and misleading at worst.\n",
    "\n",
    "The estimated intercepts (= 3) and slopes (= 0.5) for data sets 2, 3, and 4 are totally misleading because the estimation is done in the context of an **assumed linear model and that linearity assumption is the fatal flaw in this analysis.**\n",
    "\n",
    "The EDA approach of deliberately postponing the model selection until further along in the analysis (see the illustarions below) has many rewards, not the least of which is the ultimate convergence to a much-improved model and the formulation of valid and supportable scientific and engineering conclusions."
   ]
  },
  {
   "cell_type": "markdown",
   "metadata": {},
   "source": [
    "For **Classical Analysis**,which mainly uses **quantiative** technique the sequence is:\n",
    "\n",
    "![classical Analysis image](img01.png)"
   ]
  },
  {
   "cell_type": "markdown",
   "metadata": {},
   "source": [
    "For **EDA**, which mainly uses **graphic** technique the sequence is:\n",
    "\n",
    "![EDA Analysis image](img02.png)"
   ]
  },
  {
   "cell_type": "markdown",
   "metadata": {},
   "source": [
    "### Conclusions"
   ]
  },
  {
   "cell_type": "markdown",
   "metadata": {},
   "source": [
    "The moral of the story is, use EDA work flow to make your life easier and freely mix quantitative tecchnique as you need in case."
   ]
  },
  {
   "cell_type": "markdown",
   "metadata": {},
   "source": [
    "# Annexture:"
   ]
  },
  {
   "cell_type": "markdown",
   "metadata": {},
   "source": [
    "You might be thinking how to got those **Quantitative Statistics** for Dataset 1,2,3, and 4 in the above analysis. I mean the following results:\n",
    "- N = 11\n",
    "- Mean of X = 9.0\n",
    "- Mean of Y = 7.5\n",
    "- Intercept = 3\n",
    "- Slope = 0.5\n",
    "- Residual standard deviation = 1.237\n",
    "- Correlation = 0.816\n",
    "\n",
    "Here is my procedure for dataset01 (df1) you can repeat the same for other datasets. But I feel there might be more simple and straight forward methods  which I am not aware of at the moment."
   ]
  },
  {
   "cell_type": "code",
   "execution_count": 10,
   "metadata": {},
   "outputs": [
    {
     "data": {
      "text/html": [
       "<div>\n",
       "<style scoped>\n",
       "    .dataframe tbody tr th:only-of-type {\n",
       "        vertical-align: middle;\n",
       "    }\n",
       "\n",
       "    .dataframe tbody tr th {\n",
       "        vertical-align: top;\n",
       "    }\n",
       "\n",
       "    .dataframe thead th {\n",
       "        text-align: right;\n",
       "    }\n",
       "</style>\n",
       "<table border=\"1\" class=\"dataframe\">\n",
       "  <thead>\n",
       "    <tr style=\"text-align: right;\">\n",
       "      <th></th>\n",
       "      <th>x1</th>\n",
       "      <th>y1</th>\n",
       "    </tr>\n",
       "  </thead>\n",
       "  <tbody>\n",
       "    <tr>\n",
       "      <th>count</th>\n",
       "      <td>11.000000</td>\n",
       "      <td>11.000000</td>\n",
       "    </tr>\n",
       "    <tr>\n",
       "      <th>mean</th>\n",
       "      <td>9.000000</td>\n",
       "      <td>7.500909</td>\n",
       "    </tr>\n",
       "    <tr>\n",
       "      <th>std</th>\n",
       "      <td>3.316625</td>\n",
       "      <td>2.031568</td>\n",
       "    </tr>\n",
       "    <tr>\n",
       "      <th>min</th>\n",
       "      <td>4.000000</td>\n",
       "      <td>4.260000</td>\n",
       "    </tr>\n",
       "    <tr>\n",
       "      <th>25%</th>\n",
       "      <td>6.500000</td>\n",
       "      <td>6.315000</td>\n",
       "    </tr>\n",
       "    <tr>\n",
       "      <th>50%</th>\n",
       "      <td>9.000000</td>\n",
       "      <td>7.580000</td>\n",
       "    </tr>\n",
       "    <tr>\n",
       "      <th>75%</th>\n",
       "      <td>11.500000</td>\n",
       "      <td>8.570000</td>\n",
       "    </tr>\n",
       "    <tr>\n",
       "      <th>max</th>\n",
       "      <td>14.000000</td>\n",
       "      <td>10.840000</td>\n",
       "    </tr>\n",
       "  </tbody>\n",
       "</table>\n",
       "</div>"
      ],
      "text/plain": [
       "              x1         y1\n",
       "count  11.000000  11.000000\n",
       "mean    9.000000   7.500909\n",
       "std     3.316625   2.031568\n",
       "min     4.000000   4.260000\n",
       "25%     6.500000   6.315000\n",
       "50%     9.000000   7.580000\n",
       "75%    11.500000   8.570000\n",
       "max    14.000000  10.840000"
      ]
     },
     "execution_count": 10,
     "metadata": {},
     "output_type": "execute_result"
    }
   ],
   "source": [
    "df1.describe()"
   ]
  },
  {
   "cell_type": "markdown",
   "metadata": {},
   "source": [
    "from above we get:\n",
    "- **N = 11**\n",
    "- **Mean of x1 = 9.0**\n",
    "- **Mean of x2 = 7.5**"
   ]
  },
  {
   "cell_type": "code",
   "execution_count": 11,
   "metadata": {},
   "outputs": [
    {
     "data": {
      "text/html": [
       "<div>\n",
       "<style scoped>\n",
       "    .dataframe tbody tr th:only-of-type {\n",
       "        vertical-align: middle;\n",
       "    }\n",
       "\n",
       "    .dataframe tbody tr th {\n",
       "        vertical-align: top;\n",
       "    }\n",
       "\n",
       "    .dataframe thead th {\n",
       "        text-align: right;\n",
       "    }\n",
       "</style>\n",
       "<table border=\"1\" class=\"dataframe\">\n",
       "  <thead>\n",
       "    <tr style=\"text-align: right;\">\n",
       "      <th></th>\n",
       "      <th>x1</th>\n",
       "      <th>y1</th>\n",
       "    </tr>\n",
       "  </thead>\n",
       "  <tbody>\n",
       "    <tr>\n",
       "      <th>x1</th>\n",
       "      <td>1.000000</td>\n",
       "      <td>0.816421</td>\n",
       "    </tr>\n",
       "    <tr>\n",
       "      <th>y1</th>\n",
       "      <td>0.816421</td>\n",
       "      <td>1.000000</td>\n",
       "    </tr>\n",
       "  </tbody>\n",
       "</table>\n",
       "</div>"
      ],
      "text/plain": [
       "          x1        y1\n",
       "x1  1.000000  0.816421\n",
       "y1  0.816421  1.000000"
      ]
     },
     "execution_count": 11,
     "metadata": {},
     "output_type": "execute_result"
    }
   ],
   "source": [
    "df1.corr( method='pearson')"
   ]
  },
  {
   "cell_type": "markdown",
   "metadata": {},
   "source": [
    "**Correlation = .816**"
   ]
  },
  {
   "cell_type": "code",
   "execution_count": 13,
   "metadata": {},
   "outputs": [
    {
     "name": "stdout",
     "output_type": "stream",
     "text": [
      "xtain-shape= (11, 1)\n",
      "ytrain-shape= (11, 1)\n",
      "Slope= [[0.50009091]]\n",
      "Intercept=[3.00009091]\n",
      "Standatd deviation of MSE: 1.22\n"
     ]
    }
   ],
   "source": [
    "import numpy as np\n",
    "from sklearn.linear_model import LinearRegression\n",
    "from sklearn.metrics import mean_squared_error\n",
    "\n",
    "X_train = df1.x1\n",
    "\n",
    "X_train = X_train.values\n",
    "\n",
    "X_train = X_train.reshape(11, 1)\n",
    "print(\"xtain-shape=\", X_train.shape)\n",
    "\n",
    "y_train = df1.y1\n",
    "\n",
    "y_train = y_train.values\n",
    "\n",
    "y_train = y_train.reshape(11, 1)\n",
    "print('ytrain-shape=', y_train.shape)\n",
    "\n",
    "lr = LinearRegression()\n",
    "lrt = lr.fit(X_train, y_train)\n",
    "\n",
    "print(\"Slope= {}\".format(lrt.coef_))\n",
    "print(\"Intercept={}\".format(lrt.intercept_))\n",
    "\n",
    "\n",
    "\n",
    "# Make predictions using the testing set\n",
    "y_pred = lrt.predict(y_train)\n",
    "\n",
    "print(\"Standatd deviation of MSE: %.2f\" % np.sqrt(mean_squared_error(y_train, y_pred)))"
   ]
  },
  {
   "cell_type": "markdown",
   "metadata": {},
   "source": [
    "Note: the small difference in Standard deviation value is due to use of a slightly different formula."
   ]
  }
 ],
 "metadata": {
  "kernelspec": {
   "display_name": "plotlyenv4",
   "language": "python",
   "name": "plotlyenv4"
  },
  "language_info": {
   "codemirror_mode": {
    "name": "ipython",
    "version": 3
   },
   "file_extension": ".py",
   "mimetype": "text/x-python",
   "name": "python",
   "nbconvert_exporter": "python",
   "pygments_lexer": "ipython3",
   "version": "3.8.5"
  }
 },
 "nbformat": 4,
 "nbformat_minor": 4
}
