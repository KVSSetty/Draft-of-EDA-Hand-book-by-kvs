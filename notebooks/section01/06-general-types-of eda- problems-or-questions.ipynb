{
 "cells": [
  {
   "cell_type": "markdown",
   "metadata": {},
   "source": [
    "# What General Types of Problems EDA approach can Solve? \n",
    "## Topic 06 of Section 01 of Intoduction to Exploratory Data Analysis Series\n",
    "."
   ]
  },
  {
   "cell_type": "markdown",
   "metadata": {},
   "source": [
    "Written by: [KV Subbaih Setty](https://www.kvssetty.com).\n",
    "\n",
    "This series of articles are inspired by: https://doi.org/10.18434/M32189"
   ]
  },
  {
   "cell_type": "markdown",
   "metadata": {},
   "source": [
    "**This series of articles and tutorials is divided in to following five sections** \n",
    "\n",
    "* Section ONE:   EDA Introduction.\n",
    "* Section TWO:   EDA Assumptions.\n",
    "* Section Three: EDA techniques.\n",
    "* Section Four:  EDA case studies.\n",
    "* Section Five:  EDA Python libraries.\n",
    "\n",
    "And each section is further sub divided in to number of topics and each topic is covered in a single separate tutorial. "
   ]
  },
  {
   "cell_type": "markdown",
   "metadata": {},
   "source": [
    "\n",
    "**Table of topics of sectionONE**:\n",
    "1. [What is EDA?](https://medium.com/nerd-for-tech/what-is-eda-ec2791f48de9)\n",
    "2. [Types of Data Analysis](https://medium.com/nerd-for-tech/approaches-to-data-analysis-91f2b7a9aac0)\n",
    "3. [EDA Goals](https://medium.com/nerd-for-tech/goals-of-eda-42a4da883850)\n",
    "4. [The Role of Graphics in EDA](https://medium.com/nerd-for-tech/role-of-graphics-in-eda-38578f623c73)\n",
    "5. [An EDA Example](https://medium.com/nerd-for-tech/topic05-eda-example-6ad36f4c1f09)\n",
    "6. **General EDA Problem Types** (This Article)\n",
    "\n",
    "Each topic is covered in a separate article/notebook.\n",
    "This article is topic06: General EDA Problems of Section ONE: EDA itroduction.\n",
    "\n"
   ]
  },
  {
   "cell_type": "markdown",
   "metadata": {},
   "source": [
    "## Topic 06: General EDA Problem Types"
   ]
  },
  {
   "cell_type": "markdown",
   "metadata": {},
   "source": [
    "In the article we will try to answer what types of questions or problems EDA approach can deal with. More specifically for what types of questions can we find proper answers using EDA approach.\n",
    "\n",
    "I have written a similar article sometime back though it did not,somehow,  become a part of this EDA series. But  conetents of which are helpful and the link for it is [here](https://kvssetty.medium.com/good-questions-of-data-science-db96cf83fdca).Much its contents complements this article, so go through it before procedding... I will wair for you."
   ]
  },
  {
   "cell_type": "markdown",
   "metadata": {},
   "source": [
    "Here I am giving just a simple mathematical statement of the problem along with the expected output and main graphical techniues we can use to apporach the analysis. The  techniques themselves are discussed in upcoming articles ( specifically Section 03 of the series)."
   ]
  },
  {
   "cell_type": "markdown",
   "metadata": {},
   "source": [
    "The following are the catagories of problems we can tackle with EDA approach:\n",
    "\n",
    "\n",
    " - Univariate and Control Problems.\n",
    " - Relationship and Feature Selection Problems.\n",
    " - Optimization and Regression Problems.\n",
    " - Time Series Problem\n",
    " - Unsupervised Problem\n",
    " \n",
    " For each problem the details of input data, model, outputs, and EDA techniques are mentioned below."
   ]
  },
  {
   "cell_type": "markdown",
   "metadata": {},
   "source": [
    "-----"
   ]
  },
  {
   "cell_type": "markdown",
   "metadata": {},
   "source": [
    "### Type01: Univariate and Control Problems"
   ]
  },
  {
   "cell_type": "markdown",
   "metadata": {},
   "source": [
    "![univariate and control problem](../../images/univariate-control.png)"
   ]
  },
  {
   "cell_type": "markdown",
   "metadata": {},
   "source": [
    "#### Univariate Problem:\n"
   ]
  },
  {
   "cell_type": "markdown",
   "metadata": {},
   "source": [
    "- **Data:**\n",
    "\n",
    "A single column of response numbers, Y.\n",
    "- **Model:**\n",
    "\n",
    "y = constant + error\n",
    "- **Output:**\n",
    "\n",
    "1. A number (the estimated constant in the model).\n",
    "2. An estimate of uncertainty for the constant.\n",
    "3. An estimate of the distribution for the error.\n",
    "- **Graphical Techniques:**\n",
    "\n",
    "1. 4-Plot\n",
    "2. Probability Plot\n",
    "3. PPCC Plot"
   ]
  },
  {
   "cell_type": "markdown",
   "metadata": {},
   "source": [
    ">Please note most of the time EDA approach uses graphical techniques with few numerical quantitative techniques, so they are mentioned only if they play major role. And details  of graphical plots are described in a separate section (Section 03 Specifically) of the series due to lack space here."
   ]
  },
  {
   "cell_type": "markdown",
   "metadata": {},
   "source": [
    "#### Control Problem:\n",
    "- **Data:**\n",
    "\n",
    "A single column of repnose numbers, Y.\n",
    "- **Model:**\n",
    "\n",
    "y = constant + error\n",
    "- **Output:**\n",
    "\n",
    "A \"yes\" or \"no\" to the question \"Is the system out of control?\".\n",
    "- **Graphical Techniques:**\n",
    "\n",
    "Control Charts"
   ]
  },
  {
   "cell_type": "markdown",
   "metadata": {},
   "source": [
    "-----"
   ]
  },
  {
   "cell_type": "markdown",
   "metadata": {},
   "source": [
    "### Type 02: Relationship and Feature Selection Problems"
   ]
  },
  {
   "cell_type": "markdown",
   "metadata": {},
   "source": [
    "![relationship and feature selection-problem](../../images/relationship-feature-selction-problem.png)"
   ]
  },
  {
   "cell_type": "markdown",
   "metadata": {},
   "source": [
    "#### Relationship Problem:\n",
    "- **Data:**\n",
    "\n",
    "A single response variable Y and k independent input variables: (Y, X1, X2, ... , Xk), primary focus is on *one* (the primary feature/factor) of these independent variables.\n",
    "- **Model:**\n",
    "\n",
    "y = f(x1, x2, ..., xk) + error\n",
    "- **Output:**\n",
    "\n",
    "A \"yes\" or \"no\" to the question \"Is the primary input feature significant?\".\n",
    "- **Techniques:**\n",
    "\n",
    "1. Block Plot\n",
    "2. Scatter Plot\n",
    "3. Box Plot"
   ]
  },
  {
   "cell_type": "markdown",
   "metadata": {},
   "source": [
    "> What is primary factor/feature ? no idea, rise the question in comments, I will try to answer there."
   ]
  },
  {
   "cell_type": "markdown",
   "metadata": {},
   "source": [
    "#### Feature Selection Problem:\n",
    "\n",
    "\n",
    "\n",
    "- **Data:**\n",
    "\n",
    "A single response variable Y and k independent input variables:\n",
    "\n",
    "(Y, X1, X2, ... , Xk).\n",
    "- **Model:**\n",
    "\n",
    "y = f(x1, x2, ..., xk) + error\n",
    "- **Output:**\n",
    "\n",
    "1. A ranked list (from most important to least important) of features.\n",
    "2. Best settings/co-efficients for the features.\n",
    "3. A good model/prediction equation relating Y to the featurs.\n",
    "- **Techniques:**\n",
    "\n",
    "1. Block Plot\n",
    "2. Probability Plot\n",
    "3. Bi-histogram"
   ]
  },
  {
   "cell_type": "markdown",
   "metadata": {},
   "source": [
    "### Type 03: Optimization and Regression Problems"
   ]
  },
  {
   "cell_type": "markdown",
   "metadata": {},
   "source": [
    "![optimization-regression](../../images/optimization-regression.png)"
   ]
  },
  {
   "cell_type": "markdown",
   "metadata": {},
   "source": [
    "#### Optimization Problem:\n",
    "- **Data:**\n",
    "\n",
    "A single response variable Y and k independent variables:\n",
    "(Y, X1, X2, ... , Xk).\n",
    "- **Model:**\n",
    "\n",
    "y = f(x1, x2, ..., xk) + error\n",
    "- **Output:**\n",
    "\n",
    "Best settings (parameters) for the feature variables.\n",
    "- **Techniques:**\n",
    "\n",
    "1. Block Plot\n",
    "2. Least Squares Fitting\n",
    "3. Contour Plot"
   ]
  },
  {
   "cell_type": "markdown",
   "metadata": {},
   "source": [
    "#### Regression Problem:\n",
    "- **Data:**\n",
    "\n",
    "A single response variable Y and k independent variables:\n",
    "\n",
    "(Y, X1, X2, ... , Xk). The independent variables can be continuous.\n",
    "- **Model:**\n",
    "\n",
    "y = f(x1, x2, ..., xk) + error\n",
    "- **Output:**\n",
    "\n",
    "A good model/prediction equation relating Y to the features.\n",
    "- **Techniques:**\n",
    "1. Least Squares Fitting\n",
    "2. Scatter Plot\n",
    "3. 6-Plot"
   ]
  },
  {
   "cell_type": "markdown",
   "metadata": {},
   "source": [
    "-----"
   ]
  },
  {
   "cell_type": "markdown",
   "metadata": {},
   "source": [
    "### Type 04: Time Series Problems\n",
    "- **Data:**\n",
    "\n",
    "A column of time dependent numbers, Y. In addition, time is an indpendent variable. The time variable can be either explicit or implied. If the data are not equi-spaced, the time variable should be explicitly provided.\n",
    "- **Model:**\n",
    "\n",
    "yt = f(t) + error\n",
    "The model can be either a time domain based or frequency domain based.\n",
    "- **Output:**\n",
    "\n",
    "A good model/prediction equation relating Y to previous values of Y.\n",
    "- **Techniques:**\n",
    "\n",
    "1. Auto correlation Plot\n",
    "2. Spectrum\n",
    "3. Complex Demodulation Amplitude Plot\n",
    "4. Complex Demodulation Phase Plot\n",
    "5. ARIMA Models"
   ]
  },
  {
   "cell_type": "markdown",
   "metadata": {},
   "source": [
    "----"
   ]
  },
  {
   "cell_type": "markdown",
   "metadata": {},
   "source": [
    "### Type 05: Unsupervised Problem"
   ]
  },
  {
   "cell_type": "markdown",
   "metadata": {},
   "source": [
    "-**Data:**\n",
    "\n",
    "k feature variables\n",
    "\n",
    "(X1, X2, ... , Xk).\n",
    "- **Model:**\n",
    "\n",
    "The model is not explicit.\n",
    "- **Output:**\n",
    "\n",
    "Identify the underlying correlation structure in the data.\n",
    "- **Techniques:**\n",
    "\n",
    "1. Star Plot\n",
    "2. Scatter Plot Matrix\n",
    "3. Conditioning Plot\n",
    "4. Profile Plot\n",
    "5. Principal Components\n",
    "6. Clustering\n",
    "7. Discrimination/Classification\n"
   ]
  },
  {
   "cell_type": "markdown",
   "metadata": {},
   "source": [
    "----"
   ]
  },
  {
   "cell_type": "markdown",
   "metadata": {},
   "source": [
    "![Time series and unsupervised](../../images/time-series-and-unsuperviseddrawio.png)"
   ]
  },
  {
   "cell_type": "markdown",
   "metadata": {},
   "source": [
    "# Summary \n",
    "This completes the first section of the  Exploratory Data Analysis series covering:\n",
    "\n",
    "1. [What is EDA?](https://medium.com/nerd-for-tech/what-is-eda-ec2791f48de9)\n",
    "2. [Types of Data Analysis](https://medium.com/nerd-for-tech/approaches-to-data-analysis-91f2b7a9aac0)\n",
    "3. [EDA Goals](https://medium.com/nerd-for-tech/goals-of-eda-42a4da883850)\n",
    "4. [The Role of Graphics in EDA](https://medium.com/nerd-for-tech/role-of-graphics-in-eda-38578f623c73)\n",
    "5. [An EDA Example](https://medium.com/nerd-for-tech/topic05-eda-example-6ad36f4c1f09)\n",
    "6. **General EDA Problem Types** (This Article)\n",
    "\n",
    "In the next, section we will discuss assumptions made in an EDA analysis. Every Data Modeling problem , however complicated  it is,has certain underlying assumptions. Next few articles deals with what those assumptions are, why they are important, how to go about testing them, and what the consequences are if the assumptions do not hold. \n",
    "\n",
    "\n",
    "\n"
   ]
  }
 ],
 "metadata": {
  "kernelspec": {
   "display_name": "plotlyenv4",
   "language": "python",
   "name": "plotlyenv4"
  },
  "language_info": {
   "codemirror_mode": {
    "name": "ipython",
    "version": 3
   },
   "file_extension": ".py",
   "mimetype": "text/x-python",
   "name": "python",
   "nbconvert_exporter": "python",
   "pygments_lexer": "ipython3",
   "version": "3.8.5"
  }
 },
 "nbformat": 4,
 "nbformat_minor": 4
}
