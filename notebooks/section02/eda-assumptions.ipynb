{
 "cells": [
  {
   "cell_type": "markdown",
   "metadata": {},
   "source": [
    "# EDA Assumptions\n"
   ]
  },
  {
   "cell_type": "markdown",
   "metadata": {},
   "source": [
    "## Section 02:EDA Assumptions"
   ]
  },
  {
   "cell_type": "markdown",
   "metadata": {},
   "source": [
    "Written by: [KV Subbaih Setty](https://www.kvssetty.com).\n",
    "\n",
    "This series of articles are inspired by: https://doi.org/10.18434/M32189"
   ]
  },
  {
   "cell_type": "markdown",
   "metadata": {},
   "source": [
    "**This series of articles and tutorials is divided in to following five sections** \n",
    "\n",
    "* [Section One:   EDA Introduction.](https://medium.com/nerd-for-tech/what-general-types-of-problems-eda-approach-can-solve-71d84a766975)\n",
    "* **Section Two:   EDA Assumptions.**(This Section)\n",
    "* Section Three: EDA techniques.\n",
    "* Section Four:  EDA case studies.\n",
    "* Section Five:  EDA Python libraries.\n",
    "\n",
    "And each section is further sub divided in to number of topics and each topic is covered in a single separate tutorial. "
   ]
  },
  {
   "cell_type": "markdown",
   "metadata": {},
   "source": [
    "### Introduction to EDA Assumptions\n"
   ]
  },
  {
   "cell_type": "markdown",
   "metadata": {},
   "source": [
    "The gamut of scientific, engineering, financial, social, manufacturing, health care and other experimentation is virtually limitless in data analysis.\n",
    "In this sea of diversity is there any common base that allows the analyst to systematically and validly arrive at supportable, repeatable decisions and conclusions?\n",
    "\n",
    "Fortunately, there is such a basis and it is rooted in the fact that every measurement process, however complicated, has certain underlying assumptions. This section deals with what those assumptions are, why they are important, how to go about testing  validity of them, and what the consequences are if the assumptions do not hold."
   ]
  },
  {
   "cell_type": "markdown",
   "metadata": {},
   "source": [
    "### Topics of section 02 : EDA assumptions:"
   ]
  },
  {
   "cell_type": "markdown",
   "metadata": {},
   "source": [
    "1. **Underlying Assumptions** (This Article)\n",
    "2. **Importance of Assumptions** (This Article)\n",
    "3. Testing Assumptions\n",
    "4. Importance of Graphs\n",
    "5. Consequences if assumptions do not hold."
   ]
  },
  {
   "cell_type": "markdown",
   "metadata": {},
   "source": [
    "# Underlying Assumptions"
   ]
  },
  {
   "cell_type": "markdown",
   "metadata": {},
   "source": [
    "### **Assumptions Underlying a Measurement Process (dataset observations)**"
   ]
  },
  {
   "cell_type": "markdown",
   "metadata": {},
   "source": [
    "There are four assumptions that typically underlie all measurement processes; namely, that the data from the process at hand \"behave like\":\n",
    "1. random drawings;\n",
    "2. from a fixed distribution;\n",
    "3. with the distribution having fixed location; and\n",
    "4. with the distribution having fixed variation."
   ]
  },
  {
   "cell_type": "markdown",
   "metadata": {},
   "source": [
    "For example consider: **Univariate or Single Response Variable**"
   ]
  },
  {
   "cell_type": "markdown",
   "metadata": {},
   "source": [
    "The simplest problem type is univariate; that is, a single variable. For the univariate problem, the general model\n",
    "\n",
    "**response = deterministic component + random component**\n",
    "\n",
    "becomes\n",
    "\n",
    "**response = constant + error**"
   ]
  },
  {
   "cell_type": "markdown",
   "metadata": {},
   "source": [
    "### **Assumptions for Univariate Model**"
   ]
  },
  {
   "cell_type": "markdown",
   "metadata": {},
   "source": [
    "The *fixed location* referred to in item 3 above differs for different problem types.\n",
    "\n",
    "For this case, the *fixed location* is simply the unknown constant. We can thus imagine the process at hand to be operating under constant conditions that produce a single column of data with the properties that\n",
    "- the data are uncorrelated with one another;\n",
    "- the deterministic component consists of only a constant;\n",
    "- the random component has a fixed distribution;and\n",
    "- the random component has fixed variation."
   ]
  },
  {
   "cell_type": "markdown",
   "metadata": {},
   "source": [
    "### **Extending to a Function of Many Variables (Multivariate)**"
   ]
  },
  {
   "cell_type": "markdown",
   "metadata": {},
   "source": [
    "The universal power and importance of the univariate model is that it can easily be extended to the more general case where the deterministic component is not just a constant, but is in fact a function of many variables as shown below: \n",
    "\n",
    "**response = deterministic component + random component**\n",
    "\n",
    "becomes\n",
    "\n",
    "**response = function(variable1,variable2,variable3,...)  + error**\n",
    "\n",
    "And the engineering objective is to **characterize and model the function**.\n",
    "\n",
    "\n"
   ]
  },
  {
   "cell_type": "markdown",
   "metadata": {},
   "source": [
    "### **Residuals Will Behave According to Univariate Assumptions**"
   ]
  },
  {
   "cell_type": "markdown",
   "metadata": {},
   "source": [
    "The key point is that regardless of how many features/variables there are, and regardless of how complicated the function is, if the MLengineer succeeds in choosing a good model, then the differences (residuals) between the raw response data(ground truth data) and the predicted values from the fitted model should themselves behave like a univariate process. Furthermore, the residuals from this univariate process fit will behave like:\n",
    "- random drawings;\n",
    "- from a fixed distribution;\n",
    "- with fixed location (namely, 0 in this case); and\n",
    "- with fixed variation."
   ]
  },
  {
   "cell_type": "markdown",
   "metadata": {},
   "source": [
    "### **Validation of Model**"
   ]
  },
  {
   "cell_type": "markdown",
   "metadata": {},
   "source": [
    "Thus if the **residuals from the fitted model** do in fact behave like the ideal, then testing of underlying assumptions becomes a tool for the validation and quality of fit of the chosen model. On the other hand, if the residuals from the chosen fitted model violate one or more of the above univariate assumptions, then the chosen fitted model is inadequate and an opportunity exists for arriving at an improved model."
   ]
  },
  {
   "cell_type": "markdown",
   "metadata": {},
   "source": [
    "# Importance of Assumptions"
   ]
  },
  {
   "cell_type": "markdown",
   "metadata": {},
   "source": [
    "### **Predictability and Statistical Control**\n",
    "Predictability is an all-important goal in science and engineering. If the four underlying assumptions hold, then we have achieved probabilistic predictability-the ability to make probability statements not only about the process in the past, but also about the process in the future. In short, such processes are said to be **in statistical control**."
   ]
  },
  {
   "cell_type": "markdown",
   "metadata": {},
   "source": [
    "### **Validity of Engineering, Business Conclusions and Decisions** \n",
    "Moreover, if the four assumptions are valid, then the process is amenable to the generation of valid scientific, engineering and business conclusions and conclusions. If the four assumptions are not valid, then the process is drifting (with respect to location, variation, or distribution), unpredictable, and out of control. A simple characterization of such processes by a location estimate, a variation estimate, or a distribution estimate inevitably leads to engineering conclusions that are not valid, are not supportable (scientifically or legally), and which are not repeatable in the laboratory or survey."
   ]
  },
  {
   "cell_type": "markdown",
   "metadata": {},
   "source": [
    "In the next article we will discuss techniques for testing above four assumptions using graph methods.\n"
   ]
  },
  {
   "cell_type": "markdown",
   "metadata": {},
   "source": [
    "The source code for all the tutorials in this series can be found in my GitHub [repository ](https://github.com/KVSSetty/Draft-of-EDA-Hand-book-by-kvs)"
   ]
  }
 ],
 "metadata": {
  "kernelspec": {
   "display_name": "plotlyenv4",
   "language": "python",
   "name": "plotlyenv4"
  },
  "language_info": {
   "codemirror_mode": {
    "name": "ipython",
    "version": 3
   },
   "file_extension": ".py",
   "mimetype": "text/x-python",
   "name": "python",
   "nbconvert_exporter": "python",
   "pygments_lexer": "ipython3",
   "version": "3.8.5"
  }
 },
 "nbformat": 4,
 "nbformat_minor": 4
}
