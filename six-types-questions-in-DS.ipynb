{
 "cells": [
  {
   "cell_type": "markdown",
   "metadata": {},
   "source": [
    "# Six Types of Questions in Data Science"
   ]
  },
  {
   "cell_type": "markdown",
   "metadata": {},
   "source": [
    "As I have said many a times the eight main steps of any Data Science project are equally important and each step is a iterative process in itself and all the eight steps are iterative in bigger circle (see the illustration  below). But the very the first step **Framing the right type of question** needs lot of thought process even before we look at the dataset.This article focuses on that and discusses the six types questions we usually ask in any data science project."
   ]
  },
  {
   "cell_type": "markdown",
   "metadata": {},
   "source": [
    "By the way the, if you need a refresh of the main eight steps of data science: \n",
    "(look at the illustarion below.)"
   ]
  },
  {
   "cell_type": "markdown",
   "metadata": {},
   "source": [
    "1. Define the Problem / Frame the question\n",
    "2. Get the data /Data Collection\n",
    "3. EDA\n",
    "4. Data Preparation / Feature engineering\n",
    "5. Select model, train, evaluate\n",
    "6. Fine-tune the model and finalize\n",
    "7. Deploy the model to the world/share\n",
    "8. Monitor the performance the model/maintain/retrain if necessary\n"
   ]
  },
  {
   "cell_type": "markdown",
   "metadata": {},
   "source": [
    "![epicycle-image](./images/epicycle.png)"
   ]
  },
  {
   "cell_type": "markdown",
   "metadata": {},
   "source": [
    "Doing data science requires quite a bit of thinking and I believe that when you’ve completed a good data science project, you’ve spent more time thinking than doing. The thinking begins before you even look at a dataset, and it’s well worth devoting careful thought to your question framing ( the very first step of eight step data science project). This is much needed, as many of the **fatal pitfalls** of a data science can be avoided by expending the mental energy to get your question framed right.  In this artcle, I will discuss the types of questions that can be asked, and how to apply the iterative epicycle process to stating and refining your question so that when you start looking at data, you have a sharp, answerable question. we will also discuss the important characterstics of a good questions."
   ]
  },
  {
   "cell_type": "markdown",
   "metadata": {},
   "source": [
    ">*A Data Scientist does more of thinking than doing*\n",
    "-KV Subbaiah Setty\n"
   ]
  },
  {
   "cell_type": "markdown",
   "metadata": {},
   "source": [
    "Once an analysis is reproducible, the key question we want to answer is, “Is this data analysis correct?”. I have found that the most frequent failure in data science is mistaking the type of question being considered."
   ]
  },
  {
   "cell_type": "markdown",
   "metadata": {},
   "source": [
    "### Types of Questions\n",
    "Before we dig into starting to frame the question, it's helpful to consider what are the different types of questions we have. There are six basic types of questions. Understanding the type of question you are asking may be the most fundamental first step you can take to ensure that your interpretation of the results is correct in the end. Much of the discussion that follows comes from a [paper](https://science.sciencemag.org/content/347/6228/1314) by Jeffery T. Leek and Roger D. Peng published in [Science](https://science.sciencemag.org/).\n",
    "The six types of questions are: \n",
    "- **Descriptive**\n",
    "- **Exploratory**\n",
    "- **Inferential**\n",
    "- **Predictive**\n",
    "- **Causal**\n",
    "- **Mechanistic**\n",
    "\n",
    "And the type of question you are asking directly informs, how you interpret your results.\n",
    "\n",
    "see the figure below taken from the above mentioned paper:\n",
    "\n",
    "\n"
   ]
  },
  {
   "cell_type": "markdown",
   "metadata": {},
   "source": [
    "![types of questions in data science](./images/types-of-questions.gif)"
   ]
  },
  {
   "cell_type": "markdown",
   "metadata": {},
   "source": [
    "The least challenging of these is a **descriptive** data analysis, which seeks to summarize the measurements in a single data set without further interpretation.For example finding mean or median of a feature in the data set.For more informationon on this see [here](https://medium.com/nerd-for-tech/approaches-to-data-analysis-91f2b7a9aac0) \n",
    "\n",
    "An **exploratory** data analysis builds on a descriptive analysis by searching for discoveries, trends, correlations, or relationships between the measurements to generate ideas or hypotheses.  An exploratory analysis seeks to make discoveries, but can rarely confirm those discoveries. Follow-up studies and additional data were needed to confirm the result.\n",
    "\n",
    "An **inferential** data analysis quantifies whether an observed pattern will likely hold beyond the data set in hand for example to the population. This is the most common statistical analysis in the formal scientific literature.An example is a study of whether air pollution correlates with life expectancy at the state level in India. In nonrandomized experiments, it is usually only possible to determine the existence of a relationship between two measurements, but not the underlying mechanism or the reason for it.\n",
    "\n",
    "Going beyond an inferential data analysis, which quantifies the relationships at population scale, a **predictive** data analysis uses a subset of measurements (the features) to predict another measurement (the outcome) on a single person or unit. Predictive data analyses only show that you can predict one measurement from another; they do not necessarily explain why that choice of prediction works.\n",
    "\n",
    "A **causal** data analysis seeks to find out what happens to one measurement on average if you make another measurement change. Such an analysis identifies both the magnitude and direction of relationships between variables on average. For example, decades of data show a clear causal relationship between smoking and cancer. If you smoke, it is certain that your risk of cancer will increase. The causal effect is real, but it affects your average risk.\n",
    "\n",
    "Finally, a **mechanistic** data analysis seeks to show that changing one measurement always and exclusively leads to a specific, deterministic behavior in another. For example, data analysis has shown how wing design changes air flow over a wing, leading to decreased drag. Outside of engineering, mechanistic data analysis is extremely challenging and rarely achievable.\n",
    "\n",
    "Mistakes in the type of data analysis and therefore the conclusions that can be drawn from data are made regularly. The mistake is so common that it has been codified in standard phrases (see the table)."
   ]
  },
  {
   "cell_type": "markdown",
   "metadata": {},
   "source": [
    "![common mistakes](./images/common-mistakes.gif)"
   ]
  },
  {
   "cell_type": "markdown",
   "metadata": {},
   "source": [
    "Determining which question is being asked can be even more complicated when multiple analyses are performed in the same study or on the same data set. A key danger is causal creep—for example, when a randomized trial is used to infer causation for a primary analysis and data from secondary analyses are given the same weight. To accurately represent a data analysis, each step in the analysis should be labeled according to its original intent."
   ]
  },
  {
   "cell_type": "markdown",
   "metadata": {},
   "source": [
    "Confusion between data analytic question types is central to the  misconstrued press releases describing scientific results, and the controversial claim that most published research findings are false. The solution is to ensure that data analytic education is a key component of data science training. The most important step in that direction is to frame the question properly and understand the question."
   ]
  },
  {
   "cell_type": "markdown",
   "metadata": {},
   "source": [
    "## Characteristics of a Good Question\n",
    "There are five key characteristics of a good question for a data analysis, which range from the very basic characteristic that the question should not have already been answered to the more abstract characteristic that each of the possible answers to the question should have a single interpretation and be meaningful.\n",
    "\n",
    "* **Interesting to your audience**\n",
    "* **Not already been answered**\n",
    "* **Reasonable**\n",
    "* **Answerable**\n",
    "* **Specific**\n",
    "\n",
    "We will discuss how to assess this in greater detail below.\n",
    "\n",
    "As a start, the question should be of **interest to your audience**, the identity of which will depend on the context and environment in which you are working with data. If you are in academia, the audience may be your collaborators, the scientific community, government regulators, your stackeholders, and/or the public. If you are working at a start-up, your audience is your boss, the company leadership, and the investors. As an example, answering the question of whether outdoor particulate matter pollution is associated with developmental problems in children may be of interest to people involved in regulating air pollution, but may not be of interest to a grocery store chain. On the other hand, answering the question of whether sales of pepperoni are higher when it is displayed next to the pizza sauce and pizza crust or when it is displayed with the other packaged meats would be of interest to a grocery store chain, but not to people in other industries.\n",
    "\n",
    "You should also check that the question has **not already been answered**. With the recent explosion of data, the growing amount of publicly available data, and the seemingly endless scientific literature and other resources, it is not uncommon to discover that your question of interest has been answered already. Some research and discussion with experts can help sort this out, and can also be helpful because even if the specific question you have in mind has not been answered, related questions may have been answered and the answers to these related questions are informative for deciding if or how you proceed with your specific question.\n",
    "\n",
    "The question should also stem from a **reasonable** framework. In other words, the question above about the relationship between sales of pepperoni and its placement in the store is a plausible one because shoppers buying pizza ingredients are more likely than other shoppers to be interested in pepperoni and may be more likely to buy it if they see it at the same time that they are selecting the other pizza ingredients. A less plausible question would be whether pepperoni sales correlate with yogurt sales, unless you had some prior knowledge suggesting that these should be correlated.\n",
    "\n",
    "If you ask a question whose framework is not reasonable, you are likely to end up with an answer that's difficult to interpret. In the pepperoni-yogurt question, if you do find they are correlated, many questions are raised about the result itself: is it really correct?, why are these things correlated- is there another explanation?, and others. You can ensure that your question is grounded in a reasonable framework by using your own knowledge of the subject area and doing a little research, which together can go a long way in terms of helping you sort out whether your question is grounded in a reasonable framework.\n",
    "\n",
    "The question, should also, of course, be **answerable**. Although perhaps this doesn't need stating, it's worth pointing out that some of the best questions aren't answerable - either because the data don't exist or there is no means of collecting the data because of lack of resources, feasibility, or ethical problems. For example, it is quite plausible that there are defects in the functioning of certain cells in the brain that cause autism, but it not possible to perform brain biopsies to collect live cells to study, which would be needed to answer this question.\n",
    "\n",
    "  **Specificity** is also an important characteristic of a good question. An example of a general question is: Is eating a healthier diet better for you? Working towards specificity will refine your question and directly inform what steps to take when you start looking at data. A more specific question emerges after asking yourself what you mean by a \"healthier\" diet and when you say something is \"better for you\"? The process of increasing the specificity should lead to a final, refined question such as: \"Does eating at least 5 servings per day of fresh fruits and vegetables lead to fewer upper respiratory tract infections (colds)?\" With this degree of specificity, your plan of attack is much clearer and the answer you will get at the end of the data analysis will be more interpretable as you will either recommend or not recommend the specific action of eating at least 5 servings of fresh fruit and vegetables per day as a means of protecting against upper respiratory tract infections."
   ]
  },
  {
   "cell_type": "markdown",
   "metadata": {},
   "source": [
    "Note: Parts of this article were taken from the kindle book which I am reading now [The Art of Data Science](https://leanpub.com/artofdatascience), by Peng & Matsui. A good read for any Data Scientist. "
   ]
  },
  {
   "cell_type": "markdown",
   "metadata": {},
   "source": [
    "![the book image](./images/the-art-of-data-analysis.png)"
   ]
  }
 ],
 "metadata": {
  "kernelspec": {
   "display_name": "Python 3",
   "language": "python",
   "name": "python3"
  },
  "language_info": {
   "codemirror_mode": {
    "name": "ipython",
    "version": 3
   },
   "file_extension": ".py",
   "mimetype": "text/x-python",
   "name": "python",
   "nbconvert_exporter": "python",
   "pygments_lexer": "ipython3",
   "version": "3.8.3"
  }
 },
 "nbformat": 4,
 "nbformat_minor": 4
}
